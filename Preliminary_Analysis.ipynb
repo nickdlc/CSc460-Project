{
  "cells": [
    {
      "cell_type": "markdown",
      "metadata": {
        "id": "view-in-github",
        "colab_type": "text"
      },
      "source": [
        "<a href=\"https://colab.research.google.com/github/nickdlc/CSc460-Project/blob/main/Preliminary_Analysis.ipynb\" target=\"_parent\"><img src=\"https://colab.research.google.com/assets/colab-badge.svg\" alt=\"Open In Colab\"/></a>"
      ]
    },
    {
      "cell_type": "code",
      "execution_count": 90,
      "metadata": {
        "id": "unCOOIqU_3q1"
      },
      "outputs": [],
      "source": [
        "import pandas as pd\n",
        "import numpy as np\n",
        "import matplotlib.pyplot as plt\n",
        "import seaborn as sns\n",
        "\n",
        "from sklearn.preprocessing import MinMaxScaler\n",
        "from sklearn.model_selection import train_test_split, GridSearchCV, KFold\n",
        "from sklearn.metrics import confusion_matrix, f1_score\n",
        "from sklearn import tree\n",
        "from sklearn.linear_model import LinearRegression, LogisticRegression\n",
        "\n",
        "%matplotlib inline"
      ]
    },
    {
      "cell_type": "markdown",
      "metadata": {
        "id": "B1aoKzDtt378"
      },
      "source": [
        "# Exploratory Data Analysis"
      ]
    },
    {
      "cell_type": "markdown",
      "metadata": {
        "id": "Fshfor4YozMH"
      },
      "source": [
        "## Does Demographic, Occupation, and Income influence people's perceptions on their health?\n",
        "\n",
        "Dataset Source: NHANES 2017-2018\n",
        "https://wwwn.cdc.gov/nchs/nhanes/continuousnhanes/default.aspx?BeginYear=2017\n",
        "\n",
        "## Our y is BMI and General health condition from the Body Measures and Current Health Status Datasets respectively"
      ]
    },
    {
      "cell_type": "code",
      "execution_count": 2,
      "metadata": {
        "colab": {
          "base_uri": "https://localhost:8080/",
          "height": 330
        },
        "id": "_HmpJiiGozMM",
        "outputId": "ac55b62b-ea56-4ad9-fb5f-b6a17cbf4786"
      },
      "outputs": [
        {
          "output_type": "execute_result",
          "data": {
            "text/html": [
              "<div>\n",
              "<style scoped>\n",
              "    .dataframe tbody tr th:only-of-type {\n",
              "        vertical-align: middle;\n",
              "    }\n",
              "\n",
              "    .dataframe tbody tr th {\n",
              "        vertical-align: top;\n",
              "    }\n",
              "\n",
              "    .dataframe thead th {\n",
              "        text-align: right;\n",
              "    }\n",
              "</style>\n",
              "<table border=\"1\" class=\"dataframe\">\n",
              "  <thead>\n",
              "    <tr style=\"text-align: right;\">\n",
              "      <th></th>\n",
              "      <th>ID</th>\n",
              "      <th>Data release cycle</th>\n",
              "      <th>Interview/Examination status</th>\n",
              "      <th>Gender</th>\n",
              "      <th>Age in years at screening</th>\n",
              "      <th>Age in months at screening - 0 to 24 mos</th>\n",
              "      <th>Race/Hispanic origin</th>\n",
              "      <th>Race/Hispanic origin w/ NH Asian</th>\n",
              "      <th>Six month time period</th>\n",
              "      <th>Age in months at exam - 0 to 19 years</th>\n",
              "      <th>Served active duty in US Armed Forces</th>\n",
              "      <th>Served in a foreign country</th>\n",
              "      <th>Country of birth</th>\n",
              "      <th>Citizenship status</th>\n",
              "      <th>Length of time in US</th>\n",
              "      <th>Education level - Children/Youth 6-19</th>\n",
              "      <th>Education level - Adults 20+</th>\n",
              "      <th>Marital status</th>\n",
              "      <th>Pregnancy status at exam</th>\n",
              "      <th>Language of SP Interview</th>\n",
              "      <th>Proxy used in SP Interview?</th>\n",
              "      <th>Interpreter used in SP Interview?</th>\n",
              "      <th>Language of Family Interview</th>\n",
              "      <th>Proxy used in Family Interview?</th>\n",
              "      <th>Interpreter used in Family Interview?</th>\n",
              "      <th>Language of MEC Interview</th>\n",
              "      <th>Proxy used in MEC Interview?</th>\n",
              "      <th>Interpreter used in MEC Interview?</th>\n",
              "      <th>Language of ACASI Interview</th>\n",
              "      <th>Total number of people in the Household</th>\n",
              "      <th>Total number of people in the Family</th>\n",
              "      <th># of children 5 years or younger in HH</th>\n",
              "      <th># of children 6-17 years old in HH</th>\n",
              "      <th># of adults 60 years or older in HH</th>\n",
              "      <th>HH ref person's gender</th>\n",
              "      <th>HH ref person's age in years</th>\n",
              "      <th>HH ref person's education level</th>\n",
              "      <th>HH ref person's marital status</th>\n",
              "      <th>HH ref person's spouse's education level</th>\n",
              "      <th>Full sample 2 year interview weight</th>\n",
              "      <th>Full sample 2 year MEC exam weight</th>\n",
              "      <th>Masked variance pseudo-PSU</th>\n",
              "      <th>Masked variance pseudo-stratum</th>\n",
              "      <th>Annual household income</th>\n",
              "      <th>Annual family income</th>\n",
              "      <th>Ratio of family income to poverty</th>\n",
              "      <th>Income from wages/salaries?</th>\n",
              "      <th>Income from self employment?</th>\n",
              "      <th>Income from Social Security or RR?</th>\n",
              "      <th>Income from other disability pension?</th>\n",
              "      <th>Income from retirement/survivor pension?</th>\n",
              "      <th>Income from Supplemental Security Income?</th>\n",
              "      <th>Income from state/county cash assistance?</th>\n",
              "      <th>Income from interest/dividends or rental?</th>\n",
              "      <th>Income from other sources?</th>\n",
              "      <th>Monthly family income</th>\n",
              "      <th>Family monthly poverty level index</th>\n",
              "      <th>Family monthly poverty level category</th>\n",
              "      <th>Family has savings more than $20,000?</th>\n",
              "      <th>Total savings/cash assets for the family</th>\n",
              "      <th>How do you get to the grocery store?</th>\n",
              "      <th>Type of Work</th>\n",
              "      <th>Hours Worked Last Week</th>\n",
              "      <th>Usually Work 35 or More Hours?</th>\n",
              "      <th>Type of Employee</th>\n",
              "      <th>Months Worked</th>\n",
              "      <th>Overall Work Schedule</th>\n",
              "      <th>Main Reason for Not Working</th>\n",
              "      <th>Kind of Occupation Done the Longest</th>\n",
              "      <th>Duration of Longest Job</th>\n",
              "    </tr>\n",
              "  </thead>\n",
              "  <tbody>\n",
              "    <tr>\n",
              "      <th>0</th>\n",
              "      <td>93705.0</td>\n",
              "      <td>10.0</td>\n",
              "      <td>2.0</td>\n",
              "      <td>2.0</td>\n",
              "      <td>66.0</td>\n",
              "      <td>NaN</td>\n",
              "      <td>4.0</td>\n",
              "      <td>4.0</td>\n",
              "      <td>2.0</td>\n",
              "      <td>NaN</td>\n",
              "      <td>2.0</td>\n",
              "      <td>NaN</td>\n",
              "      <td>1.0</td>\n",
              "      <td>1.0</td>\n",
              "      <td>NaN</td>\n",
              "      <td>NaN</td>\n",
              "      <td>2.0</td>\n",
              "      <td>3.0</td>\n",
              "      <td>NaN</td>\n",
              "      <td>1.0</td>\n",
              "      <td>2.0</td>\n",
              "      <td>2.0</td>\n",
              "      <td>1.0</td>\n",
              "      <td>2.0</td>\n",
              "      <td>2.0</td>\n",
              "      <td>1.0</td>\n",
              "      <td>2.0</td>\n",
              "      <td>2.0</td>\n",
              "      <td>1.0</td>\n",
              "      <td>1.0</td>\n",
              "      <td>1.0</td>\n",
              "      <td>5.397605e-79</td>\n",
              "      <td>5.397605e-79</td>\n",
              "      <td>1.000000e+00</td>\n",
              "      <td>2.0</td>\n",
              "      <td>4.0</td>\n",
              "      <td>1.0</td>\n",
              "      <td>2.0</td>\n",
              "      <td>NaN</td>\n",
              "      <td>8614.571172</td>\n",
              "      <td>8338.419786</td>\n",
              "      <td>2.0</td>\n",
              "      <td>145.0</td>\n",
              "      <td>3.0</td>\n",
              "      <td>3.0</td>\n",
              "      <td>0.82</td>\n",
              "      <td>2.0</td>\n",
              "      <td>1.0</td>\n",
              "      <td>1.0</td>\n",
              "      <td>2.0</td>\n",
              "      <td>2.0</td>\n",
              "      <td>2.0</td>\n",
              "      <td>2.0</td>\n",
              "      <td>2.0</td>\n",
              "      <td>2.0</td>\n",
              "      <td>2.0</td>\n",
              "      <td>0.49</td>\n",
              "      <td>1.0</td>\n",
              "      <td>2.0</td>\n",
              "      <td>3.0</td>\n",
              "      <td>1.0</td>\n",
              "      <td>1.0</td>\n",
              "      <td>30.0</td>\n",
              "      <td>1.0</td>\n",
              "      <td>1.0</td>\n",
              "      <td>36.0</td>\n",
              "      <td>5.0</td>\n",
              "      <td>NaN</td>\n",
              "      <td>2.0</td>\n",
              "      <td>NaN</td>\n",
              "    </tr>\n",
              "    <tr>\n",
              "      <th>1</th>\n",
              "      <td>93706.0</td>\n",
              "      <td>10.0</td>\n",
              "      <td>2.0</td>\n",
              "      <td>1.0</td>\n",
              "      <td>18.0</td>\n",
              "      <td>NaN</td>\n",
              "      <td>5.0</td>\n",
              "      <td>6.0</td>\n",
              "      <td>2.0</td>\n",
              "      <td>222.0</td>\n",
              "      <td>2.0</td>\n",
              "      <td>NaN</td>\n",
              "      <td>1.0</td>\n",
              "      <td>1.0</td>\n",
              "      <td>NaN</td>\n",
              "      <td>15.0</td>\n",
              "      <td>NaN</td>\n",
              "      <td>NaN</td>\n",
              "      <td>NaN</td>\n",
              "      <td>1.0</td>\n",
              "      <td>2.0</td>\n",
              "      <td>2.0</td>\n",
              "      <td>NaN</td>\n",
              "      <td>NaN</td>\n",
              "      <td>NaN</td>\n",
              "      <td>1.0</td>\n",
              "      <td>2.0</td>\n",
              "      <td>2.0</td>\n",
              "      <td>1.0</td>\n",
              "      <td>5.0</td>\n",
              "      <td>5.0</td>\n",
              "      <td>5.397605e-79</td>\n",
              "      <td>5.397605e-79</td>\n",
              "      <td>1.000000e+00</td>\n",
              "      <td>1.0</td>\n",
              "      <td>4.0</td>\n",
              "      <td>3.0</td>\n",
              "      <td>1.0</td>\n",
              "      <td>2.0</td>\n",
              "      <td>8548.632619</td>\n",
              "      <td>8723.439814</td>\n",
              "      <td>2.0</td>\n",
              "      <td>134.0</td>\n",
              "      <td>NaN</td>\n",
              "      <td>NaN</td>\n",
              "      <td>NaN</td>\n",
              "      <td>NaN</td>\n",
              "      <td>NaN</td>\n",
              "      <td>NaN</td>\n",
              "      <td>NaN</td>\n",
              "      <td>NaN</td>\n",
              "      <td>NaN</td>\n",
              "      <td>NaN</td>\n",
              "      <td>NaN</td>\n",
              "      <td>NaN</td>\n",
              "      <td>NaN</td>\n",
              "      <td>NaN</td>\n",
              "      <td>NaN</td>\n",
              "      <td>NaN</td>\n",
              "      <td>NaN</td>\n",
              "      <td>NaN</td>\n",
              "      <td>4.0</td>\n",
              "      <td>NaN</td>\n",
              "      <td>NaN</td>\n",
              "      <td>NaN</td>\n",
              "      <td>NaN</td>\n",
              "      <td>NaN</td>\n",
              "      <td>2.0</td>\n",
              "      <td>4.0</td>\n",
              "      <td>NaN</td>\n",
              "    </tr>\n",
              "    <tr>\n",
              "      <th>2</th>\n",
              "      <td>93708.0</td>\n",
              "      <td>10.0</td>\n",
              "      <td>2.0</td>\n",
              "      <td>2.0</td>\n",
              "      <td>66.0</td>\n",
              "      <td>NaN</td>\n",
              "      <td>5.0</td>\n",
              "      <td>6.0</td>\n",
              "      <td>2.0</td>\n",
              "      <td>NaN</td>\n",
              "      <td>2.0</td>\n",
              "      <td>NaN</td>\n",
              "      <td>2.0</td>\n",
              "      <td>1.0</td>\n",
              "      <td>7.0</td>\n",
              "      <td>NaN</td>\n",
              "      <td>1.0</td>\n",
              "      <td>1.0</td>\n",
              "      <td>NaN</td>\n",
              "      <td>1.0</td>\n",
              "      <td>2.0</td>\n",
              "      <td>1.0</td>\n",
              "      <td>1.0</td>\n",
              "      <td>2.0</td>\n",
              "      <td>2.0</td>\n",
              "      <td>1.0</td>\n",
              "      <td>2.0</td>\n",
              "      <td>1.0</td>\n",
              "      <td>3.0</td>\n",
              "      <td>2.0</td>\n",
              "      <td>2.0</td>\n",
              "      <td>5.397605e-79</td>\n",
              "      <td>5.397605e-79</td>\n",
              "      <td>2.000000e+00</td>\n",
              "      <td>1.0</td>\n",
              "      <td>4.0</td>\n",
              "      <td>1.0</td>\n",
              "      <td>1.0</td>\n",
              "      <td>1.0</td>\n",
              "      <td>13329.450589</td>\n",
              "      <td>14372.488765</td>\n",
              "      <td>2.0</td>\n",
              "      <td>138.0</td>\n",
              "      <td>6.0</td>\n",
              "      <td>6.0</td>\n",
              "      <td>1.63</td>\n",
              "      <td>2.0</td>\n",
              "      <td>2.0</td>\n",
              "      <td>2.0</td>\n",
              "      <td>1.0</td>\n",
              "      <td>1.0</td>\n",
              "      <td>2.0</td>\n",
              "      <td>2.0</td>\n",
              "      <td>2.0</td>\n",
              "      <td>2.0</td>\n",
              "      <td>5.0</td>\n",
              "      <td>1.46</td>\n",
              "      <td>2.0</td>\n",
              "      <td>1.0</td>\n",
              "      <td>NaN</td>\n",
              "      <td>1.0</td>\n",
              "      <td>4.0</td>\n",
              "      <td>NaN</td>\n",
              "      <td>NaN</td>\n",
              "      <td>NaN</td>\n",
              "      <td>NaN</td>\n",
              "      <td>NaN</td>\n",
              "      <td>4.0</td>\n",
              "      <td>1.0</td>\n",
              "      <td>180.0</td>\n",
              "    </tr>\n",
              "    <tr>\n",
              "      <th>3</th>\n",
              "      <td>93709.0</td>\n",
              "      <td>10.0</td>\n",
              "      <td>2.0</td>\n",
              "      <td>2.0</td>\n",
              "      <td>75.0</td>\n",
              "      <td>NaN</td>\n",
              "      <td>4.0</td>\n",
              "      <td>4.0</td>\n",
              "      <td>1.0</td>\n",
              "      <td>NaN</td>\n",
              "      <td>2.0</td>\n",
              "      <td>NaN</td>\n",
              "      <td>1.0</td>\n",
              "      <td>1.0</td>\n",
              "      <td>NaN</td>\n",
              "      <td>NaN</td>\n",
              "      <td>4.0</td>\n",
              "      <td>2.0</td>\n",
              "      <td>NaN</td>\n",
              "      <td>1.0</td>\n",
              "      <td>2.0</td>\n",
              "      <td>2.0</td>\n",
              "      <td>1.0</td>\n",
              "      <td>2.0</td>\n",
              "      <td>2.0</td>\n",
              "      <td>NaN</td>\n",
              "      <td>NaN</td>\n",
              "      <td>NaN</td>\n",
              "      <td>NaN</td>\n",
              "      <td>1.0</td>\n",
              "      <td>1.0</td>\n",
              "      <td>5.397605e-79</td>\n",
              "      <td>5.397605e-79</td>\n",
              "      <td>1.000000e+00</td>\n",
              "      <td>2.0</td>\n",
              "      <td>4.0</td>\n",
              "      <td>2.0</td>\n",
              "      <td>2.0</td>\n",
              "      <td>NaN</td>\n",
              "      <td>12043.388271</td>\n",
              "      <td>12277.556662</td>\n",
              "      <td>1.0</td>\n",
              "      <td>136.0</td>\n",
              "      <td>2.0</td>\n",
              "      <td>2.0</td>\n",
              "      <td>0.41</td>\n",
              "      <td>2.0</td>\n",
              "      <td>2.0</td>\n",
              "      <td>1.0</td>\n",
              "      <td>2.0</td>\n",
              "      <td>2.0</td>\n",
              "      <td>1.0</td>\n",
              "      <td>2.0</td>\n",
              "      <td>2.0</td>\n",
              "      <td>2.0</td>\n",
              "      <td>3.0</td>\n",
              "      <td>0.96</td>\n",
              "      <td>1.0</td>\n",
              "      <td>2.0</td>\n",
              "      <td>1.0</td>\n",
              "      <td>3.0</td>\n",
              "      <td>4.0</td>\n",
              "      <td>NaN</td>\n",
              "      <td>NaN</td>\n",
              "      <td>NaN</td>\n",
              "      <td>NaN</td>\n",
              "      <td>NaN</td>\n",
              "      <td>6.0</td>\n",
              "      <td>1.0</td>\n",
              "      <td>360.0</td>\n",
              "    </tr>\n",
              "    <tr>\n",
              "      <th>4</th>\n",
              "      <td>93711.0</td>\n",
              "      <td>10.0</td>\n",
              "      <td>2.0</td>\n",
              "      <td>1.0</td>\n",
              "      <td>56.0</td>\n",
              "      <td>NaN</td>\n",
              "      <td>5.0</td>\n",
              "      <td>6.0</td>\n",
              "      <td>2.0</td>\n",
              "      <td>NaN</td>\n",
              "      <td>2.0</td>\n",
              "      <td>NaN</td>\n",
              "      <td>2.0</td>\n",
              "      <td>1.0</td>\n",
              "      <td>6.0</td>\n",
              "      <td>NaN</td>\n",
              "      <td>5.0</td>\n",
              "      <td>1.0</td>\n",
              "      <td>NaN</td>\n",
              "      <td>1.0</td>\n",
              "      <td>2.0</td>\n",
              "      <td>2.0</td>\n",
              "      <td>1.0</td>\n",
              "      <td>2.0</td>\n",
              "      <td>2.0</td>\n",
              "      <td>1.0</td>\n",
              "      <td>2.0</td>\n",
              "      <td>2.0</td>\n",
              "      <td>1.0</td>\n",
              "      <td>3.0</td>\n",
              "      <td>3.0</td>\n",
              "      <td>5.397605e-79</td>\n",
              "      <td>5.397605e-79</td>\n",
              "      <td>5.397605e-79</td>\n",
              "      <td>1.0</td>\n",
              "      <td>3.0</td>\n",
              "      <td>3.0</td>\n",
              "      <td>1.0</td>\n",
              "      <td>3.0</td>\n",
              "      <td>11178.260106</td>\n",
              "      <td>12390.919724</td>\n",
              "      <td>2.0</td>\n",
              "      <td>134.0</td>\n",
              "      <td>15.0</td>\n",
              "      <td>15.0</td>\n",
              "      <td>5.00</td>\n",
              "      <td>1.0</td>\n",
              "      <td>2.0</td>\n",
              "      <td>2.0</td>\n",
              "      <td>2.0</td>\n",
              "      <td>2.0</td>\n",
              "      <td>2.0</td>\n",
              "      <td>2.0</td>\n",
              "      <td>1.0</td>\n",
              "      <td>2.0</td>\n",
              "      <td>12.0</td>\n",
              "      <td>5.00</td>\n",
              "      <td>3.0</td>\n",
              "      <td>1.0</td>\n",
              "      <td>NaN</td>\n",
              "      <td>1.0</td>\n",
              "      <td>1.0</td>\n",
              "      <td>35.0</td>\n",
              "      <td>NaN</td>\n",
              "      <td>4.0</td>\n",
              "      <td>24.0</td>\n",
              "      <td>1.0</td>\n",
              "      <td>NaN</td>\n",
              "      <td>2.0</td>\n",
              "      <td>NaN</td>\n",
              "    </tr>\n",
              "  </tbody>\n",
              "</table>\n",
              "</div>"
            ],
            "text/plain": [
              "        ID  ...  Duration of Longest Job\n",
              "0  93705.0  ...                      NaN\n",
              "1  93706.0  ...                      NaN\n",
              "2  93708.0  ...                    180.0\n",
              "3  93709.0  ...                    360.0\n",
              "4  93711.0  ...                      NaN\n",
              "\n",
              "[5 rows x 70 columns]"
            ]
          },
          "metadata": {},
          "execution_count": 2
        }
      ],
      "source": [
        "# Demographic Data\n",
        "# https://wwwn.cdc.gov/Nchs/Nhanes/2017-2018/DEMO_J.htm\n",
        "link = 'https://wwwn.cdc.gov/Nchs/Nhanes/2017-2018/DEMO_J.XPT'\n",
        "demo_cols = ['ID',\n",
        "             'Data release cycle',\n",
        "             'Interview/Examination status',\n",
        "             'Gender',\n",
        "             'Age in years at screening',\n",
        "             'Age in months at screening - 0 to 24 mos',\n",
        "             'Race/Hispanic origin',\n",
        "             'Race/Hispanic origin w/ NH Asian',\n",
        "             'Six month time period',\n",
        "             'Age in months at exam - 0 to 19 years',\n",
        "             'Served active duty in US Armed Forces',\n",
        "             'Served in a foreign country',\n",
        "             'Country of birth',\n",
        "             'Citizenship status',\n",
        "             'Length of time in US',\n",
        "             'Education level - Children/Youth 6-19',\n",
        "             'Education level - Adults 20+',\n",
        "             'Marital status',\n",
        "             'Pregnancy status at exam',\n",
        "             'Language of SP Interview',\n",
        "             'Proxy used in SP Interview?',\n",
        "             'Interpreter used in SP Interview?',\n",
        "             'Language of Family Interview',\n",
        "             'Proxy used in Family Interview?',\n",
        "             'Interpreter used in Family Interview?',\n",
        "             'Language of MEC Interview',\n",
        "             'Proxy used in MEC Interview?',\n",
        "             'Interpreter used in MEC Interview?',\n",
        "             'Language of ACASI Interview',\n",
        "             'Total number of people in the Household',\n",
        "             'Total number of people in the Family',\n",
        "             '# of children 5 years or younger in HH',\n",
        "             '# of children 6-17 years old in HH',\n",
        "             '# of adults 60 years or older in HH',\n",
        "             'HH ref person\\'s gender',\n",
        "             'HH ref person\\'s age in years',\n",
        "             'HH ref person\\'s education level',\n",
        "             'HH ref person\\'s marital status',\n",
        "             'HH ref person\\'s spouse\\'s education level',\n",
        "             'Full sample 2 year interview weight',\n",
        "             'Full sample 2 year MEC exam weight',\n",
        "             'Masked variance pseudo-PSU',\n",
        "             'Masked variance pseudo-stratum',\n",
        "             'Annual household income',\n",
        "             'Annual family income',\n",
        "             'Ratio of family income to poverty']\n",
        "demo_df = pd.read_sas(link)\n",
        "demo_df.columns = demo_cols\n",
        "\n",
        "# Occupation and Income\n",
        "# Occupation: https://wwwn.cdc.gov/Nchs/Nhanes/2017-2018/OCQ_J.htm\n",
        "# Income: https://wwwn.cdc.gov/Nchs/Nhanes/2017-2018/INQ_J.htm\n",
        "occ_link = 'https://wwwn.cdc.gov/Nchs/Nhanes/2017-2018/OCQ_J.XPT'\n",
        "inc_link = 'https://wwwn.cdc.gov/Nchs/Nhanes/2017-2018/INQ_J.XPT'\n",
        "occ_cols = ['ID',\n",
        "            'Type of Work', \n",
        "            'Hours Worked Last Week', \n",
        "            'Usually Work 35 or More Hours?', \n",
        "            'Type of Employee', \n",
        "            'Months Worked', \n",
        "            'Overall Work Schedule', \n",
        "            'Main Reason for Not Working', \n",
        "            'Kind of Occupation Done the Longest', \n",
        "            'Duration of Longest Job']\n",
        "inc_cols = ['ID',\n",
        "            'Income from wages/salaries?',\n",
        "            'Income from self employment?',\n",
        "            'Income from Social Security or RR?',\n",
        "            'Income from other disability pension?',\n",
        "            'Income from retirement/survivor pension?',\n",
        "            'Income from Supplemental Security Income?',\n",
        "            'Income from state/county cash assistance?',\n",
        "            'Income from interest/dividends or rental?',\n",
        "            'Income from other sources?',\n",
        "            'Monthly family income',\n",
        "            'Family monthly poverty level index',\n",
        "            'Family monthly poverty level category',\n",
        "            'Family has savings more than $20,000?',\n",
        "            'Total savings/cash assets for the family',\n",
        "            'How do you get to the grocery store?']\n",
        "occ_df = pd.read_sas(occ_link)\n",
        "inc_df = pd.read_sas(inc_link)\n",
        "occ_df.columns = occ_cols\n",
        "inc_df.columns = inc_cols\n",
        "inc_occ_df = pd.merge(inc_df, occ_df, on=\"ID\")\n",
        "\n",
        "X_df = pd.merge(demo_df, inc_occ_df, on=\"ID\")\n",
        "X_df.head(5)"
      ]
    },
    {
      "cell_type": "code",
      "execution_count": 3,
      "metadata": {
        "colab": {
          "base_uri": "https://localhost:8080/"
        },
        "id": "vqWmkq3XozMR",
        "outputId": "295a4b06-8c0e-45b9-e014-1cccb8e7768f"
      },
      "outputs": [
        {
          "output_type": "stream",
          "name": "stdout",
          "text": [
            "<class 'pandas.core.frame.DataFrame'>\n",
            "Int64Index: 6161 entries, 0 to 6160\n",
            "Data columns (total 70 columns):\n",
            " #   Column                                     Non-Null Count  Dtype  \n",
            "---  ------                                     --------------  -----  \n",
            " 0   ID                                         6161 non-null   float64\n",
            " 1   Data release cycle                         6161 non-null   float64\n",
            " 2   Interview/Examination status               6161 non-null   float64\n",
            " 3   Gender                                     6161 non-null   float64\n",
            " 4   Age in years at screening                  6161 non-null   float64\n",
            " 5   Age in months at screening - 0 to 24 mos   0 non-null      float64\n",
            " 6   Race/Hispanic origin                       6161 non-null   float64\n",
            " 7   Race/Hispanic origin w/ NH Asian           6161 non-null   float64\n",
            " 8   Six month time period                      5828 non-null   float64\n",
            " 9   Age in months at exam - 0 to 19 years      557 non-null    float64\n",
            " 10  Served active duty in US Armed Forces      6004 non-null   float64\n",
            " 11  Served in a foreign country                561 non-null    float64\n",
            " 12  Country of birth                           6161 non-null   float64\n",
            " 13  Citizenship status                         6158 non-null   float64\n",
            " 14  Length of time in US                       1819 non-null   float64\n",
            " 15  Education level - Children/Youth 6-19      592 non-null    float64\n",
            " 16  Education level - Adults 20+               5569 non-null   float64\n",
            " 17  Marital status                             5569 non-null   float64\n",
            " 18  Pregnancy status at exam                   1110 non-null   float64\n",
            " 19  Language of SP Interview                   6161 non-null   float64\n",
            " 20  Proxy used in SP Interview?                6161 non-null   float64\n",
            " 21  Interpreter used in SP Interview?          6161 non-null   float64\n",
            " 22  Language of Family Interview               5816 non-null   float64\n",
            " 23  Proxy used in Family Interview?            5816 non-null   float64\n",
            " 24  Interpreter used in Family Interview?      5816 non-null   float64\n",
            " 25  Language of MEC Interview                  5427 non-null   float64\n",
            " 26  Proxy used in MEC Interview?               5427 non-null   float64\n",
            " 27  Interpreter used in MEC Interview?         5427 non-null   float64\n",
            " 28  Language of ACASI Interview                4436 non-null   float64\n",
            " 29  Total number of people in the Household    6161 non-null   float64\n",
            " 30  Total number of people in the Family       6161 non-null   float64\n",
            " 31  # of children 5 years or younger in HH     6161 non-null   float64\n",
            " 32  # of children 6-17 years old in HH         6161 non-null   float64\n",
            " 33  # of adults 60 years or older in HH        6161 non-null   float64\n",
            " 34  HH ref person's gender                     6161 non-null   float64\n",
            " 35  HH ref person's age in years               6161 non-null   float64\n",
            " 36  HH ref person's education level            5854 non-null   float64\n",
            " 37  HH ref person's marital status             6027 non-null   float64\n",
            " 38  HH ref person's spouse's education level   3031 non-null   float64\n",
            " 39  Full sample 2 year interview weight        6161 non-null   float64\n",
            " 40  Full sample 2 year MEC exam weight         6161 non-null   float64\n",
            " 41  Masked variance pseudo-PSU                 6161 non-null   float64\n",
            " 42  Masked variance pseudo-stratum             6161 non-null   float64\n",
            " 43  Annual household income                    5801 non-null   float64\n",
            " 44  Annual family income                       5816 non-null   float64\n",
            " 45  Ratio of family income to poverty          5292 non-null   float64\n",
            " 46  Income from wages/salaries?                5816 non-null   float64\n",
            " 47  Income from self employment?               5816 non-null   float64\n",
            " 48  Income from Social Security or RR?         5816 non-null   float64\n",
            " 49  Income from other disability pension?      5816 non-null   float64\n",
            " 50  Income from retirement/survivor pension?   5816 non-null   float64\n",
            " 51  Income from Supplemental Security Income?  5816 non-null   float64\n",
            " 52  Income from state/county cash assistance?  5816 non-null   float64\n",
            " 53  Income from interest/dividends or rental?  5816 non-null   float64\n",
            " 54  Income from other sources?                 5816 non-null   float64\n",
            " 55  Monthly family income                      5682 non-null   float64\n",
            " 56  Family monthly poverty level index         4903 non-null   float64\n",
            " 57  Family monthly poverty level category      5679 non-null   float64\n",
            " 58  Family has savings more than $20,000?      5682 non-null   float64\n",
            " 59  Total savings/cash assets for the family   3871 non-null   float64\n",
            " 60  How do you get to the grocery store?       5816 non-null   float64\n",
            " 61  Type of Work                               6161 non-null   float64\n",
            " 62  Hours Worked Last Week                     3141 non-null   float64\n",
            " 63  Usually Work 35 or More Hours?             1014 non-null   float64\n",
            " 64  Type of Employee                           3263 non-null   float64\n",
            " 65  Months Worked                              3263 non-null   float64\n",
            " 66  Overall Work Schedule                      3262 non-null   float64\n",
            " 67  Main Reason for Not Working                2625 non-null   float64\n",
            " 68  Kind of Occupation Done the Longest        6161 non-null   float64\n",
            " 69  Duration of Longest Job                    3785 non-null   float64\n",
            "dtypes: float64(70)\n",
            "memory usage: 3.3 MB\n"
          ]
        }
      ],
      "source": [
        "X_df.info()"
      ]
    },
    {
      "cell_type": "code",
      "execution_count": 4,
      "metadata": {
        "colab": {
          "base_uri": "https://localhost:8080/",
          "height": 330
        },
        "id": "4Z4idp89ozMT",
        "outputId": "1cbdd852-c58a-49c4-e7c0-e2be3de9faa2"
      },
      "outputs": [
        {
          "output_type": "execute_result",
          "data": {
            "text/html": [
              "<div>\n",
              "<style scoped>\n",
              "    .dataframe tbody tr th:only-of-type {\n",
              "        vertical-align: middle;\n",
              "    }\n",
              "\n",
              "    .dataframe tbody tr th {\n",
              "        vertical-align: top;\n",
              "    }\n",
              "\n",
              "    .dataframe thead th {\n",
              "        text-align: right;\n",
              "    }\n",
              "</style>\n",
              "<table border=\"1\" class=\"dataframe\">\n",
              "  <thead>\n",
              "    <tr style=\"text-align: right;\">\n",
              "      <th></th>\n",
              "      <th>ID</th>\n",
              "      <th>General health condition</th>\n",
              "      <th>SP have head cold or chest cold</th>\n",
              "      <th>SP have stomach or intestinal illness?</th>\n",
              "      <th>SP have flu, pneumonia, ear infection?</th>\n",
              "      <th>SP donated blood in past 12 months?</th>\n",
              "      <th>How long ago was last blood donation?</th>\n",
              "      <th>Blood ever tested for HIV virus?</th>\n",
              "      <th>Source of Health Status Data</th>\n",
              "      <th>Body Measures Component Status Code</th>\n",
              "      <th>Weight (kg)</th>\n",
              "      <th>Weight Comment</th>\n",
              "      <th>Recumbent Length (cm)</th>\n",
              "      <th>Recumbent Length Comment</th>\n",
              "      <th>Head Circumference (cm)</th>\n",
              "      <th>Head Circumference Comment</th>\n",
              "      <th>Standing Height (cm)</th>\n",
              "      <th>Standing Height Comment</th>\n",
              "      <th>Body Mass Index (kg/m**2)</th>\n",
              "      <th>Upper Leg Length (cm)</th>\n",
              "      <th>Upper Leg Length Comment</th>\n",
              "      <th>Upper Arm Length (cm)</th>\n",
              "      <th>Upper Arm Length Comment</th>\n",
              "      <th>Arm Circumference (cm)</th>\n",
              "      <th>Arm Circumference Comment</th>\n",
              "      <th>Waist Circumference (cm)</th>\n",
              "      <th>Waist Circumference Comment</th>\n",
              "      <th>Hip Circumference (cm)</th>\n",
              "      <th>Hip Circumference Comment</th>\n",
              "    </tr>\n",
              "  </thead>\n",
              "  <tbody>\n",
              "    <tr>\n",
              "      <th>0</th>\n",
              "      <td>93703.0</td>\n",
              "      <td>NaN</td>\n",
              "      <td>NaN</td>\n",
              "      <td>NaN</td>\n",
              "      <td>NaN</td>\n",
              "      <td>NaN</td>\n",
              "      <td>NaN</td>\n",
              "      <td>NaN</td>\n",
              "      <td>1.0</td>\n",
              "      <td>1.0</td>\n",
              "      <td>13.7</td>\n",
              "      <td>3.0</td>\n",
              "      <td>89.6</td>\n",
              "      <td>NaN</td>\n",
              "      <td>NaN</td>\n",
              "      <td>NaN</td>\n",
              "      <td>88.6</td>\n",
              "      <td>NaN</td>\n",
              "      <td>17.5</td>\n",
              "      <td>NaN</td>\n",
              "      <td>NaN</td>\n",
              "      <td>18.0</td>\n",
              "      <td>NaN</td>\n",
              "      <td>16.2</td>\n",
              "      <td>NaN</td>\n",
              "      <td>48.2</td>\n",
              "      <td>NaN</td>\n",
              "      <td>NaN</td>\n",
              "      <td>NaN</td>\n",
              "    </tr>\n",
              "    <tr>\n",
              "      <th>1</th>\n",
              "      <td>93704.0</td>\n",
              "      <td>NaN</td>\n",
              "      <td>2.0</td>\n",
              "      <td>2.0</td>\n",
              "      <td>2.0</td>\n",
              "      <td>NaN</td>\n",
              "      <td>NaN</td>\n",
              "      <td>NaN</td>\n",
              "      <td>1.0</td>\n",
              "      <td>1.0</td>\n",
              "      <td>13.9</td>\n",
              "      <td>NaN</td>\n",
              "      <td>95.0</td>\n",
              "      <td>NaN</td>\n",
              "      <td>NaN</td>\n",
              "      <td>NaN</td>\n",
              "      <td>94.2</td>\n",
              "      <td>NaN</td>\n",
              "      <td>15.7</td>\n",
              "      <td>NaN</td>\n",
              "      <td>NaN</td>\n",
              "      <td>18.6</td>\n",
              "      <td>NaN</td>\n",
              "      <td>15.2</td>\n",
              "      <td>NaN</td>\n",
              "      <td>50.0</td>\n",
              "      <td>NaN</td>\n",
              "      <td>NaN</td>\n",
              "      <td>NaN</td>\n",
              "    </tr>\n",
              "    <tr>\n",
              "      <th>2</th>\n",
              "      <td>93705.0</td>\n",
              "      <td>3.0</td>\n",
              "      <td>2.0</td>\n",
              "      <td>2.0</td>\n",
              "      <td>2.0</td>\n",
              "      <td>2.0</td>\n",
              "      <td>NaN</td>\n",
              "      <td>1.0</td>\n",
              "      <td>2.0</td>\n",
              "      <td>1.0</td>\n",
              "      <td>79.5</td>\n",
              "      <td>NaN</td>\n",
              "      <td>NaN</td>\n",
              "      <td>NaN</td>\n",
              "      <td>NaN</td>\n",
              "      <td>NaN</td>\n",
              "      <td>158.3</td>\n",
              "      <td>NaN</td>\n",
              "      <td>31.7</td>\n",
              "      <td>37.0</td>\n",
              "      <td>NaN</td>\n",
              "      <td>36.0</td>\n",
              "      <td>NaN</td>\n",
              "      <td>32.0</td>\n",
              "      <td>NaN</td>\n",
              "      <td>101.8</td>\n",
              "      <td>NaN</td>\n",
              "      <td>110.0</td>\n",
              "      <td>NaN</td>\n",
              "    </tr>\n",
              "    <tr>\n",
              "      <th>3</th>\n",
              "      <td>93706.0</td>\n",
              "      <td>2.0</td>\n",
              "      <td>2.0</td>\n",
              "      <td>2.0</td>\n",
              "      <td>2.0</td>\n",
              "      <td>1.0</td>\n",
              "      <td>5.0</td>\n",
              "      <td>2.0</td>\n",
              "      <td>2.0</td>\n",
              "      <td>1.0</td>\n",
              "      <td>66.3</td>\n",
              "      <td>NaN</td>\n",
              "      <td>NaN</td>\n",
              "      <td>NaN</td>\n",
              "      <td>NaN</td>\n",
              "      <td>NaN</td>\n",
              "      <td>175.7</td>\n",
              "      <td>NaN</td>\n",
              "      <td>21.5</td>\n",
              "      <td>46.6</td>\n",
              "      <td>NaN</td>\n",
              "      <td>38.8</td>\n",
              "      <td>NaN</td>\n",
              "      <td>27.0</td>\n",
              "      <td>NaN</td>\n",
              "      <td>79.3</td>\n",
              "      <td>NaN</td>\n",
              "      <td>94.4</td>\n",
              "      <td>NaN</td>\n",
              "    </tr>\n",
              "    <tr>\n",
              "      <th>4</th>\n",
              "      <td>93707.0</td>\n",
              "      <td>3.0</td>\n",
              "      <td>2.0</td>\n",
              "      <td>2.0</td>\n",
              "      <td>2.0</td>\n",
              "      <td>NaN</td>\n",
              "      <td>NaN</td>\n",
              "      <td>NaN</td>\n",
              "      <td>2.0</td>\n",
              "      <td>1.0</td>\n",
              "      <td>45.4</td>\n",
              "      <td>NaN</td>\n",
              "      <td>NaN</td>\n",
              "      <td>NaN</td>\n",
              "      <td>NaN</td>\n",
              "      <td>NaN</td>\n",
              "      <td>158.4</td>\n",
              "      <td>NaN</td>\n",
              "      <td>18.1</td>\n",
              "      <td>38.1</td>\n",
              "      <td>NaN</td>\n",
              "      <td>33.8</td>\n",
              "      <td>NaN</td>\n",
              "      <td>21.5</td>\n",
              "      <td>NaN</td>\n",
              "      <td>64.1</td>\n",
              "      <td>NaN</td>\n",
              "      <td>83.0</td>\n",
              "      <td>NaN</td>\n",
              "    </tr>\n",
              "  </tbody>\n",
              "</table>\n",
              "</div>"
            ],
            "text/plain": [
              "        ID  ...  Hip Circumference Comment\n",
              "0  93703.0  ...                        NaN\n",
              "1  93704.0  ...                        NaN\n",
              "2  93705.0  ...                        NaN\n",
              "3  93706.0  ...                        NaN\n",
              "4  93707.0  ...                        NaN\n",
              "\n",
              "[5 rows x 29 columns]"
            ]
          },
          "metadata": {},
          "execution_count": 4
        }
      ],
      "source": [
        "# Current Health Status\n",
        "# https://wwwn.cdc.gov/Nchs/Nhanes/2017-2018/HSQ_J.htm\n",
        "link = 'https://wwwn.cdc.gov/Nchs/Nhanes/2017-2018/HSQ_J.XPT'\n",
        "healthstat_cols = ['ID',\n",
        "                   'General health condition',\n",
        "                   'SP have head cold or chest cold',\n",
        "                   'SP have stomach or intestinal illness?',\n",
        "                   'SP have flu, pneumonia, ear infection?',\n",
        "                   'SP donated blood in past 12 months?',\n",
        "                   'How long ago was last blood donation?',\n",
        "                   'Blood ever tested for HIV virus?',\n",
        "                   'Source of Health Status Data']\n",
        "heathstat_df = pd.read_sas(link)\n",
        "heathstat_df.columns = healthstat_cols\n",
        "\n",
        "# Body Measures\n",
        "# https://wwwn.cdc.gov/Nchs/Nhanes/2017-2018/BMX_J.htm\n",
        "link = 'https://wwwn.cdc.gov/Nchs/Nhanes/2017-2018/BMX_J.XPT'\n",
        "body_cols = ['ID',\n",
        "             'Body Measures Component Status Code',\n",
        "             'Weight (kg)',\n",
        "             'Weight Comment',\n",
        "             'Recumbent Length (cm)',\n",
        "             'Recumbent Length Comment',\n",
        "             'Head Circumference (cm)',\n",
        "             'Head Circumference Comment',\n",
        "             'Standing Height (cm)',\n",
        "             'Standing Height Comment',\n",
        "             'Body Mass Index (kg/m**2)',\n",
        "             'Upper Leg Length (cm)',\n",
        "             'Upper Leg Length Comment',\n",
        "             'Upper Arm Length (cm)',\n",
        "             'Upper Arm Length Comment',\n",
        "             'Arm Circumference (cm)',\n",
        "             'Arm Circumference Comment',\n",
        "             'Waist Circumference (cm)',\n",
        "             'Waist Circumference Comment',\n",
        "             'Hip Circumference (cm)',\n",
        "             'Hip Circumference Comment']\n",
        "body_df = pd.read_sas(link)\n",
        "body_df.columns = body_cols\n",
        "\n",
        "y_df = pd.merge(heathstat_df, body_df, on=\"ID\")\n",
        "y_df.head(5)"
      ]
    },
    {
      "cell_type": "code",
      "execution_count": 5,
      "metadata": {
        "colab": {
          "base_uri": "https://localhost:8080/",
          "height": 206
        },
        "id": "gVUrowmiozMW",
        "outputId": "918ebed4-4fdd-4c68-d19d-66faea92519f"
      },
      "outputs": [
        {
          "output_type": "execute_result",
          "data": {
            "text/html": [
              "<div>\n",
              "<style scoped>\n",
              "    .dataframe tbody tr th:only-of-type {\n",
              "        vertical-align: middle;\n",
              "    }\n",
              "\n",
              "    .dataframe tbody tr th {\n",
              "        vertical-align: top;\n",
              "    }\n",
              "\n",
              "    .dataframe thead th {\n",
              "        text-align: right;\n",
              "    }\n",
              "</style>\n",
              "<table border=\"1\" class=\"dataframe\">\n",
              "  <thead>\n",
              "    <tr style=\"text-align: right;\">\n",
              "      <th></th>\n",
              "      <th>ID</th>\n",
              "      <th>General health condition</th>\n",
              "      <th>Body Mass Index (kg/m**2)</th>\n",
              "    </tr>\n",
              "  </thead>\n",
              "  <tbody>\n",
              "    <tr>\n",
              "      <th>2</th>\n",
              "      <td>93705.0</td>\n",
              "      <td>3.0</td>\n",
              "      <td>31.7</td>\n",
              "    </tr>\n",
              "    <tr>\n",
              "      <th>3</th>\n",
              "      <td>93706.0</td>\n",
              "      <td>2.0</td>\n",
              "      <td>21.5</td>\n",
              "    </tr>\n",
              "    <tr>\n",
              "      <th>4</th>\n",
              "      <td>93707.0</td>\n",
              "      <td>3.0</td>\n",
              "      <td>18.1</td>\n",
              "    </tr>\n",
              "    <tr>\n",
              "      <th>5</th>\n",
              "      <td>93708.0</td>\n",
              "      <td>3.0</td>\n",
              "      <td>23.7</td>\n",
              "    </tr>\n",
              "    <tr>\n",
              "      <th>7</th>\n",
              "      <td>93711.0</td>\n",
              "      <td>2.0</td>\n",
              "      <td>21.3</td>\n",
              "    </tr>\n",
              "  </tbody>\n",
              "</table>\n",
              "</div>"
            ],
            "text/plain": [
              "        ID  General health condition  Body Mass Index (kg/m**2)\n",
              "2  93705.0                       3.0                       31.7\n",
              "3  93706.0                       2.0                       21.5\n",
              "4  93707.0                       3.0                       18.1\n",
              "5  93708.0                       3.0                       23.7\n",
              "7  93711.0                       2.0                       21.3"
            ]
          },
          "metadata": {},
          "execution_count": 5
        }
      ],
      "source": [
        "# Remove cols\n",
        "labels_df = y_df[['ID','General health condition', 'Body Mass Index (kg/m**2)']]\n",
        "labels_df = labels_df[labels_df['General health condition'].isin([1.0, 2.0, 3.0, 4.0, 5.0])]\n",
        "labels_df.head(5)"
      ]
    },
    {
      "cell_type": "markdown",
      "metadata": {
        "id": "cLydHKGqozMZ"
      },
      "source": [
        "## What is the relation between people's BMIs and their perceived general health condition? \n",
        "In the Current Health Status survey, people recorded their perceived general health condition on a scale of 1-5. I removed the \"Refused\", \"Don't know\", and \"Not recorded\" values.\n",
        "\n",
        "1 \tExcellent \t619 \t619 \t\n",
        "2 \tVery good \t1544 \t2163 \t\n",
        "3 \tGood \t    2454 \t4617 \t\n",
        "4 \tFair    \t1175 \t5792 \t\n",
        "5 \tPoor        172 \t5964\n",
        "\n",
        "I plotted people's BMIs against their perceived health to see if there was a relationship. I expected a bell curve-people who were in a healthy weight should perceive themselves as healthy individuals. However, that was not the case. Weight is not the only predictor of health and even if it were, people have altered perceptions of health. \n",
        "\n",
        "\n",
        "Note the vertical lines delimiting the BMI Health Status Categories:\n",
        "Below 18.5\tUnderweight\n",
        "18.5—24.9\tHealthy\n",
        "25.0—29.9\tOverweight\n",
        "30.0 and Above\tObese"
      ]
    },
    {
      "cell_type": "code",
      "execution_count": 6,
      "metadata": {
        "colab": {
          "base_uri": "https://localhost:8080/",
          "height": 279
        },
        "id": "d9tD4gsdozMc",
        "outputId": "63eabb0d-c0d6-4024-892d-0a1cb861f54b"
      },
      "outputs": [
        {
          "output_type": "display_data",
          "data": {
            "image/png": "[encoded data removed]",
            "text/plain": [
              "<Figure size 432x288 with 1 Axes>"
            ]
          },
          "metadata": {
            "needs_background": "light"
          }
        }
      ],
      "source": [
        "new_ydf = y_df[['Body Mass Index (kg/m**2)','General health condition']]\n",
        "new_ydf = new_ydf[new_ydf['General health condition'].isin([1.0, 2.0, 3.0, 4.0, 5.0])]\n",
        "new_ydf = new_ydf.dropna(subset=['Body Mass Index (kg/m**2)'])\n",
        "\n",
        "new_ydf['Body Mass Index (kg/m**2)'][new_ydf['Body Mass Index (kg/m**2)'] <= 18.5] = 15\n",
        "new_ydf['Body Mass Index (kg/m**2)'][(new_ydf['Body Mass Index (kg/m**2)']>18.5) & (new_ydf['Body Mass Index (kg/m**2)']<=25)] = 21.75\n",
        "new_ydf['Body Mass Index (kg/m**2)'][(new_ydf['Body Mass Index (kg/m**2)']>25) & (new_ydf['Body Mass Index (kg/m**2)']<=30)] = 27.5\n",
        "new_ydf['Body Mass Index (kg/m**2)'][new_ydf['Body Mass Index (kg/m**2)']>30] = 35\n",
        "new_ydf=new_ydf.value_counts().to_frame().reset_index()\n",
        "new_ydf=new_ydf.drop_duplicates()\n",
        "\n",
        "new_bmi = new_ydf['Body Mass Index (kg/m**2)']\n",
        "new_ghc = new_ydf['General health condition']\n",
        "\n",
        "plt.scatter(new_bmi, new_ghc, alpha=0.5, s=new_ydf[0])\n",
        "plt.axvline(x=18.5, color = 'red')\n",
        "plt.axvline(x=25, color = 'red')\n",
        "plt.axvline(x=30, color = 'red')\n",
        "plt.xlabel(\"BMI\")\n",
        "plt.ylabel(\"Perceived Health (1 Best-5 Worst)\")\n",
        "plt.show()"
      ]
    },
    {
      "cell_type": "code",
      "execution_count": 7,
      "metadata": {
        "colab": {
          "base_uri": "https://localhost:8080/",
          "height": 295
        },
        "id": "FUVHnHd7ozMf",
        "outputId": "095efdf6-a975-4db3-a11b-2799693f8412"
      },
      "outputs": [
        {
          "output_type": "display_data",
          "data": {
            "image/png": "[encoded data removed]",
            "text/plain": [
              "<Figure size 432x288 with 1 Axes>"
            ]
          },
          "metadata": {
            "needs_background": "light"
          }
        }
      ],
      "source": [
        "a = np.hstack(y_df['Body Mass Index (kg/m**2)'])\n",
        "_ = plt.hist(a, bins='auto')  # arguments are passed to np.histogram\n",
        "plt.axvline(x=18.5, color = 'red')\n",
        "plt.axvline(x=25, color = 'red')\n",
        "plt.axvline(x=30, color = 'red')\n",
        "plt.title(\"BMI Histogram\")\n",
        "plt.xlabel(\"bmi\")\n",
        "plt.ylabel(\"count\")\n",
        "plt.show()"
      ]
    },
    {
      "cell_type": "code",
      "execution_count": 8,
      "metadata": {
        "colab": {
          "base_uri": "https://localhost:8080/",
          "height": 295
        },
        "id": "U8Ia6V9JozMh",
        "outputId": "e7a617b0-80cc-4030-e31f-6b87ba728e6f"
      },
      "outputs": [
        {
          "output_type": "display_data",
          "data": {
            "image/png": "[encoded data removed]",
            "text/plain": [
              "<Figure size 432x288 with 1 Axes>"
            ]
          },
          "metadata": {
            "needs_background": "light"
          }
        }
      ],
      "source": [
        "a = np.hstack(y_df['General health condition'])\n",
        "_ = plt.hist(a, bins='auto')  # arguments are passed to np.histogram\n",
        "plt.title(\"Perceived Health Histogram\")\n",
        "plt.xlabel(\"general health condition\")\n",
        "plt.ylabel(\"count\")\n",
        "plt.show()"
      ]
    },
    {
      "cell_type": "markdown",
      "metadata": {
        "id": "5XNtLx_qozMk"
      },
      "source": [
        "## So we see a discrepancy in how people perceive their health and their \"actual\" health, assuming BMI reflects people's actual health. \n",
        "\n",
        "## Based on X, can we classify people's perceived health and then predict their BMI?"
      ]
    },
    {
      "cell_type": "code",
      "execution_count": 9,
      "metadata": {
        "colab": {
          "base_uri": "https://localhost:8080/"
        },
        "id": "BeFLBE7XozMn",
        "outputId": "3290f2a2-5021-4781-ecfa-893c3ffdd952"
      },
      "outputs": [
        {
          "output_type": "stream",
          "name": "stdout",
          "text": [
            "<class 'pandas.core.frame.DataFrame'>\n",
            "Int64Index: 6161 entries, 0 to 6160\n",
            "Data columns (total 70 columns):\n",
            " #   Column                                     Non-Null Count  Dtype  \n",
            "---  ------                                     --------------  -----  \n",
            " 0   ID                                         6161 non-null   float64\n",
            " 1   Data release cycle                         6161 non-null   float64\n",
            " 2   Interview/Examination status               6161 non-null   float64\n",
            " 3   Gender                                     6161 non-null   float64\n",
            " 4   Age in years at screening                  6161 non-null   float64\n",
            " 5   Age in months at screening - 0 to 24 mos   0 non-null      float64\n",
            " 6   Race/Hispanic origin                       6161 non-null   float64\n",
            " 7   Race/Hispanic origin w/ NH Asian           6161 non-null   float64\n",
            " 8   Six month time period                      5828 non-null   float64\n",
            " 9   Age in months at exam - 0 to 19 years      557 non-null    float64\n",
            " 10  Served active duty in US Armed Forces      6004 non-null   float64\n",
            " 11  Served in a foreign country                561 non-null    float64\n",
            " 12  Country of birth                           6161 non-null   float64\n",
            " 13  Citizenship status                         6158 non-null   float64\n",
            " 14  Length of time in US                       1819 non-null   float64\n",
            " 15  Education level - Children/Youth 6-19      592 non-null    float64\n",
            " 16  Education level - Adults 20+               5569 non-null   float64\n",
            " 17  Marital status                             5569 non-null   float64\n",
            " 18  Pregnancy status at exam                   1110 non-null   float64\n",
            " 19  Language of SP Interview                   6161 non-null   float64\n",
            " 20  Proxy used in SP Interview?                6161 non-null   float64\n",
            " 21  Interpreter used in SP Interview?          6161 non-null   float64\n",
            " 22  Language of Family Interview               5816 non-null   float64\n",
            " 23  Proxy used in Family Interview?            5816 non-null   float64\n",
            " 24  Interpreter used in Family Interview?      5816 non-null   float64\n",
            " 25  Language of MEC Interview                  5427 non-null   float64\n",
            " 26  Proxy used in MEC Interview?               5427 non-null   float64\n",
            " 27  Interpreter used in MEC Interview?         5427 non-null   float64\n",
            " 28  Language of ACASI Interview                4436 non-null   float64\n",
            " 29  Total number of people in the Household    6161 non-null   float64\n",
            " 30  Total number of people in the Family       6161 non-null   float64\n",
            " 31  # of children 5 years or younger in HH     6161 non-null   float64\n",
            " 32  # of children 6-17 years old in HH         6161 non-null   float64\n",
            " 33  # of adults 60 years or older in HH        6161 non-null   float64\n",
            " 34  HH ref person's gender                     6161 non-null   float64\n",
            " 35  HH ref person's age in years               6161 non-null   float64\n",
            " 36  HH ref person's education level            5854 non-null   float64\n",
            " 37  HH ref person's marital status             6027 non-null   float64\n",
            " 38  HH ref person's spouse's education level   3031 non-null   float64\n",
            " 39  Full sample 2 year interview weight        6161 non-null   float64\n",
            " 40  Full sample 2 year MEC exam weight         6161 non-null   float64\n",
            " 41  Masked variance pseudo-PSU                 6161 non-null   float64\n",
            " 42  Masked variance pseudo-stratum             6161 non-null   float64\n",
            " 43  Annual household income                    5801 non-null   float64\n",
            " 44  Annual family income                       5816 non-null   float64\n",
            " 45  Ratio of family income to poverty          5292 non-null   float64\n",
            " 46  Income from wages/salaries?                5816 non-null   float64\n",
            " 47  Income from self employment?               5816 non-null   float64\n",
            " 48  Income from Social Security or RR?         5816 non-null   float64\n",
            " 49  Income from other disability pension?      5816 non-null   float64\n",
            " 50  Income from retirement/survivor pension?   5816 non-null   float64\n",
            " 51  Income from Supplemental Security Income?  5816 non-null   float64\n",
            " 52  Income from state/county cash assistance?  5816 non-null   float64\n",
            " 53  Income from interest/dividends or rental?  5816 non-null   float64\n",
            " 54  Income from other sources?                 5816 non-null   float64\n",
            " 55  Monthly family income                      5682 non-null   float64\n",
            " 56  Family monthly poverty level index         4903 non-null   float64\n",
            " 57  Family monthly poverty level category      5679 non-null   float64\n",
            " 58  Family has savings more than $20,000?      5682 non-null   float64\n",
            " 59  Total savings/cash assets for the family   3871 non-null   float64\n",
            " 60  How do you get to the grocery store?       5816 non-null   float64\n",
            " 61  Type of Work                               6161 non-null   float64\n",
            " 62  Hours Worked Last Week                     3141 non-null   float64\n",
            " 63  Usually Work 35 or More Hours?             1014 non-null   float64\n",
            " 64  Type of Employee                           3263 non-null   float64\n",
            " 65  Months Worked                              3263 non-null   float64\n",
            " 66  Overall Work Schedule                      3262 non-null   float64\n",
            " 67  Main Reason for Not Working                2625 non-null   float64\n",
            " 68  Kind of Occupation Done the Longest        6161 non-null   float64\n",
            " 69  Duration of Longest Job                    3785 non-null   float64\n",
            "dtypes: float64(70)\n",
            "memory usage: 3.3 MB\n"
          ]
        }
      ],
      "source": [
        "X_df.info()"
      ]
    },
    {
      "cell_type": "code",
      "execution_count": 10,
      "metadata": {
        "colab": {
          "base_uri": "https://localhost:8080/"
        },
        "id": "Q3bg0MRZozMo",
        "outputId": "59c534ff-31e5-4ff9-9646-ec17e04df8a5"
      },
      "outputs": [
        {
          "output_type": "stream",
          "name": "stdout",
          "text": [
            "<class 'pandas.core.frame.DataFrame'>\n",
            "Int64Index: 5417 entries, 0 to 5416\n",
            "Data columns (total 9 columns):\n",
            " #   Column                                    Non-Null Count  Dtype  \n",
            "---  ------                                    --------------  -----  \n",
            " 0   ID                                        5417 non-null   float64\n",
            " 1   HH ref person's gender                    5417 non-null   float64\n",
            " 2   HH ref person's age in years              5417 non-null   float64\n",
            " 3   HH ref person's education level           5181 non-null   float64\n",
            " 4   Race/Hispanic origin w/ NH Asian          5417 non-null   float64\n",
            " 5   Total savings/cash assets for the family  3455 non-null   float64\n",
            " 6   Annual family income                      5171 non-null   float64\n",
            " 7   General health condition                  5417 non-null   float64\n",
            " 8   Body Mass Index (kg/m**2)                 5348 non-null   float64\n",
            "dtypes: float64(9)\n",
            "memory usage: 423.2 KB\n"
          ]
        }
      ],
      "source": [
        "features = ['ID',\n",
        "            'HH ref person\\'s gender',\n",
        "            'HH ref person\\'s age in years',\n",
        "            'HH ref person\\'s education level',\n",
        "            'Race/Hispanic origin w/ NH Asian',\n",
        "            'Total savings/cash assets for the family',\n",
        "            'Annual family income']\n",
        "features_df = X_df[features]\n",
        "df = pd.merge(features_df, labels_df, on=\"ID\")\n",
        "df.info()"
      ]
    },
    {
      "cell_type": "markdown",
      "metadata": {
        "id": "x7C23ghEtdH5"
      },
      "source": [
        "# Data Cleaning"
      ]
    },
    {
      "cell_type": "code",
      "execution_count": 11,
      "metadata": {
        "colab": {
          "base_uri": "https://localhost:8080/"
        },
        "id": "qnRS8Nq3ozMx",
        "outputId": "eb38f543-de6f-4b73-e96a-8968b9b125c8"
      },
      "outputs": [
        {
          "output_type": "execute_result",
          "data": {
            "text/plain": [
              "ID                                             0\n",
              "HH ref person's gender                         0\n",
              "HH ref person's age in years                   0\n",
              "HH ref person's education level              236\n",
              "Race/Hispanic origin w/ NH Asian               0\n",
              "Total savings/cash assets for the family    1962\n",
              "Annual family income                         246\n",
              "General health condition                       0\n",
              "Body Mass Index (kg/m**2)                     69\n",
              "dtype: int64"
            ]
          },
          "metadata": {},
          "execution_count": 11
        }
      ],
      "source": [
        "# Clean Data to get rid of error:\n",
        "# Input contains NaN, infinity or a value too large for dtype('float32').\n",
        "\n",
        "df.isna().sum()"
      ]
    },
    {
      "cell_type": "markdown",
      "metadata": {
        "id": "2s6GhhbhuFkS"
      },
      "source": [
        "## So we can see that 4 columns will need cleaning.\n",
        "\n",
        "The BMI column has 69 NaN entries, but since this is one of the labels which we are predicting, it would be better to drop these values, otherwise we may be training on egregious data.\n",
        "\n",
        "Furthermore, the household reference person's education level is missing in 236 rows. For this we will do mode imputation because this appears to be the most reliable statistic to fill the unknown values.\n",
        "\n",
        "For the total savings/assets column, it would make sense to use mode imputation since this appears to be the most reliable way of generalizing the sample population.\n",
        "\n",
        "For the annual family income, it would make sense to use median imputation. However, we must consider two values correspond to \"Under \\$20,000\" and \"Over \\$20,000\". First, we will consider any rows with the latter value as NA since \"Over \\$20,000\" encompasses a wide range. On the other hand, \"Under \\$20,000\" can be used to consolidate the four different ranges below \\$20,000. Lastly, we will still need to consider the NA, \"Refused\", and \"Don't know\" values.\n",
        "\n",
        "**Note:** These columns also have valid values which correspond to \"Refused\" or \"Don't know\" so we will need to perform the same imputations on these entries as well. This also implies that we should check the values without NA values to make sure there are no \"Refused\" or \"Don't know\" values.\n"
      ]
    },
    {
      "cell_type": "code",
      "execution_count": 12,
      "metadata": {
        "colab": {
          "base_uri": "https://localhost:8080/",
          "height": 258
        },
        "id": "80aI-AeXuAS0",
        "outputId": "01fb9e37-29d6-4427-860a-03d41b3ac546"
      },
      "outputs": [
        {
          "output_type": "execute_result",
          "data": {
            "text/html": [
              "<div>\n",
              "<style scoped>\n",
              "    .dataframe tbody tr th:only-of-type {\n",
              "        vertical-align: middle;\n",
              "    }\n",
              "\n",
              "    .dataframe tbody tr th {\n",
              "        vertical-align: top;\n",
              "    }\n",
              "\n",
              "    .dataframe thead th {\n",
              "        text-align: right;\n",
              "    }\n",
              "</style>\n",
              "<table border=\"1\" class=\"dataframe\">\n",
              "  <thead>\n",
              "    <tr style=\"text-align: right;\">\n",
              "      <th></th>\n",
              "      <th>ID</th>\n",
              "      <th>HH ref person's gender</th>\n",
              "      <th>HH ref person's age in years</th>\n",
              "      <th>HH ref person's education level</th>\n",
              "      <th>Race/Hispanic origin w/ NH Asian</th>\n",
              "      <th>Total savings/cash assets for the family</th>\n",
              "      <th>Annual family income</th>\n",
              "      <th>General health condition</th>\n",
              "      <th>Body Mass Index (kg/m**2)</th>\n",
              "    </tr>\n",
              "  </thead>\n",
              "  <tbody>\n",
              "    <tr>\n",
              "      <th>100</th>\n",
              "      <td>93863.0</td>\n",
              "      <td>1.0</td>\n",
              "      <td>3.0</td>\n",
              "      <td>2.0</td>\n",
              "      <td>6.0</td>\n",
              "      <td>NaN</td>\n",
              "      <td>77.0</td>\n",
              "      <td>2.0</td>\n",
              "      <td>31.6</td>\n",
              "    </tr>\n",
              "    <tr>\n",
              "      <th>101</th>\n",
              "      <td>93866.0</td>\n",
              "      <td>1.0</td>\n",
              "      <td>2.0</td>\n",
              "      <td>2.0</td>\n",
              "      <td>3.0</td>\n",
              "      <td>1.0</td>\n",
              "      <td>99.0</td>\n",
              "      <td>4.0</td>\n",
              "      <td>22.0</td>\n",
              "    </tr>\n",
              "    <tr>\n",
              "      <th>102</th>\n",
              "      <td>93868.0</td>\n",
              "      <td>1.0</td>\n",
              "      <td>4.0</td>\n",
              "      <td>1.0</td>\n",
              "      <td>4.0</td>\n",
              "      <td>NaN</td>\n",
              "      <td>77.0</td>\n",
              "      <td>4.0</td>\n",
              "      <td>35.4</td>\n",
              "    </tr>\n",
              "    <tr>\n",
              "      <th>111</th>\n",
              "      <td>93884.0</td>\n",
              "      <td>2.0</td>\n",
              "      <td>3.0</td>\n",
              "      <td>3.0</td>\n",
              "      <td>3.0</td>\n",
              "      <td>NaN</td>\n",
              "      <td>99.0</td>\n",
              "      <td>1.0</td>\n",
              "      <td>21.3</td>\n",
              "    </tr>\n",
              "    <tr>\n",
              "      <th>115</th>\n",
              "      <td>93891.0</td>\n",
              "      <td>1.0</td>\n",
              "      <td>3.0</td>\n",
              "      <td>1.0</td>\n",
              "      <td>1.0</td>\n",
              "      <td>99.0</td>\n",
              "      <td>99.0</td>\n",
              "      <td>3.0</td>\n",
              "      <td>44.6</td>\n",
              "    </tr>\n",
              "  </tbody>\n",
              "</table>\n",
              "</div>"
            ],
            "text/plain": [
              "          ID  ...  Body Mass Index (kg/m**2)\n",
              "100  93863.0  ...                       31.6\n",
              "101  93866.0  ...                       22.0\n",
              "102  93868.0  ...                       35.4\n",
              "111  93884.0  ...                       21.3\n",
              "115  93891.0  ...                       44.6\n",
              "\n",
              "[5 rows x 9 columns]"
            ]
          },
          "metadata": {},
          "execution_count": 12
        }
      ],
      "source": [
        "# Showing that values w/ 77 & 99 exist\n",
        "\n",
        "df[(df['Annual family income'] == 77.0) | (df['Annual family income'] == 99.0)].head(5)"
      ]
    },
    {
      "cell_type": "markdown",
      "metadata": {
        "id": "FLiVOe3NLr5i"
      },
      "source": [
        "## `HH ref person's gender` Cleaning"
      ]
    },
    {
      "cell_type": "code",
      "execution_count": 13,
      "metadata": {
        "colab": {
          "base_uri": "https://localhost:8080/"
        },
        "id": "gCcuz5wfL5oh",
        "outputId": "5d123319-a6b7-4ab1-9c52-214920facec3"
      },
      "outputs": [
        {
          "output_type": "stream",
          "name": "stdout",
          "text": [
            "\n",
            "HH REF PERSON'S GENDER:\n",
            "1.0    2879\n",
            "2.0    2538\n",
            "Name: HH ref person's gender, dtype: int64\n"
          ]
        }
      ],
      "source": [
        "print(\"\\nHH ref person's gender:\\n\".upper(), df[\"HH ref person's gender\"].value_counts(), sep='')"
      ]
    },
    {
      "cell_type": "markdown",
      "metadata": {
        "id": "iMAzuXHoL-Ds"
      },
      "source": [
        "These values correspond to male and female respectively so we don't need to do any more cleaning."
      ]
    },
    {
      "cell_type": "markdown",
      "metadata": {
        "id": "L44IEfszMTUp"
      },
      "source": [
        "## `HH ref person's age in years` Cleaning"
      ]
    },
    {
      "cell_type": "code",
      "execution_count": 14,
      "metadata": {
        "colab": {
          "base_uri": "https://localhost:8080/"
        },
        "id": "wahlZHxuMWTw",
        "outputId": "5cc7b9c1-554d-4114-e67c-d89eeba976b6"
      },
      "outputs": [
        {
          "output_type": "stream",
          "name": "stdout",
          "text": [
            "\n",
            "HH REF PERSON'S AGE IN YEARS:\n",
            "3.0    2073\n",
            "4.0    1939\n",
            "2.0    1325\n",
            "1.0      80\n",
            "Name: HH ref person's age in years, dtype: int64\n"
          ]
        }
      ],
      "source": [
        "print(\"\\nHH ref person's age in years:\\n\".upper(), df[\"HH ref person's age in years\"].value_counts(), sep='')"
      ]
    },
    {
      "cell_type": "markdown",
      "metadata": {
        "id": "ez4tlUgAMdYR"
      },
      "source": [
        "None of these correspond to \"Refused\" or \"Don't know\" nor have overlapping ranges, so no extra cleaning is needed."
      ]
    },
    {
      "cell_type": "markdown",
      "metadata": {
        "id": "ql6ewNjJ8XAg"
      },
      "source": [
        "## `HH ref person's education level` Cleaning"
      ]
    },
    {
      "cell_type": "code",
      "execution_count": 15,
      "metadata": {
        "colab": {
          "base_uri": "https://localhost:8080/"
        },
        "id": "TfLfs_k4-gKV",
        "outputId": "6fbf30fc-aaba-49b4-dc1c-69028bf0bf4b"
      },
      "outputs": [
        {
          "output_type": "stream",
          "name": "stdout",
          "text": [
            "\n",
            "HH REF PERSON'S EDUCATION LEVEL:\n",
            "2.0    2964\n",
            "3.0    1252\n",
            "1.0     965\n",
            "Name: HH ref person's education level, dtype: int64\n"
          ]
        }
      ],
      "source": [
        "print(\"\\nHH ref person's education level:\\n\".upper(), df[\"HH ref person's education level\"].value_counts(), sep='')"
      ]
    },
    {
      "cell_type": "markdown",
      "metadata": {
        "id": "4Ie5HTxA-0lh"
      },
      "source": [
        "From the above code, we can see that there are no extra values denoting \"Refused\" or \"Don't know\" so we can just work with replacing NA values."
      ]
    },
    {
      "cell_type": "code",
      "execution_count": 16,
      "metadata": {
        "colab": {
          "base_uri": "https://localhost:8080/"
        },
        "id": "l6j2VOsd-9tF",
        "outputId": "b801b784-e836-4ca8-8509-be3c6fdaa0b7"
      },
      "outputs": [
        {
          "output_type": "execute_result",
          "data": {
            "text/plain": [
              "ID                                             0\n",
              "HH ref person's gender                         0\n",
              "HH ref person's age in years                   0\n",
              "HH ref person's education level                0\n",
              "Race/Hispanic origin w/ NH Asian               0\n",
              "Total savings/cash assets for the family    1962\n",
              "Annual family income                         246\n",
              "General health condition                       0\n",
              "Body Mass Index (kg/m**2)                     69\n",
              "dtype: int64"
            ]
          },
          "metadata": {},
          "execution_count": 16
        }
      ],
      "source": [
        "# setting value to mode\n",
        "edu_lvl_dict = {\n",
        "    \"HH ref person's education level\": df[\"HH ref person's education level\"].value_counts().index[0]\n",
        "}\n",
        "\n",
        "df = df.fillna(value=edu_lvl_dict)\n",
        "df.isna().sum()"
      ]
    },
    {
      "cell_type": "markdown",
      "metadata": {
        "id": "ILpDs0lFMsWu"
      },
      "source": [
        "## `Race/Hispanic origin w/ NH Asian` Cleaning"
      ]
    },
    {
      "cell_type": "code",
      "execution_count": 17,
      "metadata": {
        "colab": {
          "base_uri": "https://localhost:8080/"
        },
        "id": "uOEx3pOwMwVV",
        "outputId": "fdfe3f29-cafb-49de-ec2b-953d04b5610d"
      },
      "outputs": [
        {
          "output_type": "stream",
          "name": "stdout",
          "text": [
            "\n",
            "RACE/HISPANIC ORIGIN W/ NH ASIAN:\n",
            "3.0    1907\n",
            "4.0    1253\n",
            "1.0     753\n",
            "6.0     724\n",
            "2.0     479\n",
            "7.0     301\n",
            "Name: Race/Hispanic origin w/ NH Asian, dtype: int64\n"
          ]
        }
      ],
      "source": [
        "print(\"\\nRace/Hispanic origin w/ NH Asian:\\n\".upper(), df[\"Race/Hispanic origin w/ NH Asian\"].value_counts(), sep='')"
      ]
    },
    {
      "cell_type": "markdown",
      "metadata": {
        "id": "k6CSNBWBM6zv"
      },
      "source": [
        "None of these values correspond to \"Refused\" or \"Don't know\", so no extra cleaning is needed."
      ]
    },
    {
      "cell_type": "markdown",
      "metadata": {
        "id": "-WXgmDNfCQSF"
      },
      "source": [
        "## `Total savings/cash assets for the family` Cleaning"
      ]
    },
    {
      "cell_type": "code",
      "execution_count": 18,
      "metadata": {
        "colab": {
          "base_uri": "https://localhost:8080/"
        },
        "id": "J8YKlFcr3kJ4",
        "outputId": "4b15a7e7-351e-44dc-854c-2faa70f8be56"
      },
      "outputs": [
        {
          "output_type": "stream",
          "name": "stdout",
          "text": [
            "TOTAL SAVINGS/CASH ASSETS FOR THE FAMILY:\n",
            "1.0     2617\n",
            "2.0      308\n",
            "3.0      281\n",
            "4.0      113\n",
            "99.0      64\n",
            "5.0       48\n",
            "77.0      24\n",
            "Name: Total savings/cash assets for the family, dtype: int64\n"
          ]
        }
      ],
      "source": [
        "print('Total savings/cash assets for the family:\\n'.upper(), df['Total savings/cash assets for the family'].value_counts(), sep='')"
      ]
    },
    {
      "cell_type": "code",
      "execution_count": 19,
      "metadata": {
        "colab": {
          "base_uri": "https://localhost:8080/"
        },
        "id": "vGxVRCzVCSDV",
        "outputId": "f1937e59-c678-4f6c-8f64-a5227ca8fa2e"
      },
      "outputs": [
        {
          "output_type": "execute_result",
          "data": {
            "text/plain": [
              "ID                                             0\n",
              "HH ref person's gender                         0\n",
              "HH ref person's age in years                   0\n",
              "HH ref person's education level                0\n",
              "Race/Hispanic origin w/ NH Asian               0\n",
              "Total savings/cash assets for the family    2050\n",
              "Annual family income                         246\n",
              "General health condition                       0\n",
              "Body Mass Index (kg/m**2)                     69\n",
              "dtype: int64"
            ]
          },
          "metadata": {},
          "execution_count": 19
        }
      ],
      "source": [
        "# Replace 77.0 & 99.0 w/ NaN\n",
        "\n",
        "df['Total savings/cash assets for the family'] = df['Total savings/cash assets for the family'].replace([77.0, 99.0], [np.nan, np.nan])\n",
        "df.isna().sum()"
      ]
    },
    {
      "cell_type": "code",
      "execution_count": 20,
      "metadata": {
        "colab": {
          "base_uri": "https://localhost:8080/"
        },
        "id": "D0hKI_kpFKLu",
        "outputId": "bb8a6432-2aaa-4af6-9ea3-688a6bc7dcf8"
      },
      "outputs": [
        {
          "output_type": "execute_result",
          "data": {
            "text/plain": [
              "ID                                            0\n",
              "HH ref person's gender                        0\n",
              "HH ref person's age in years                  0\n",
              "HH ref person's education level               0\n",
              "Race/Hispanic origin w/ NH Asian              0\n",
              "Total savings/cash assets for the family      0\n",
              "Annual family income                        246\n",
              "General health condition                      0\n",
              "Body Mass Index (kg/m**2)                    69\n",
              "dtype: int64"
            ]
          },
          "metadata": {},
          "execution_count": 20
        }
      ],
      "source": [
        "# Replace all NaNs with the mode\n",
        "\n",
        "savings_assets_dict = {\n",
        "    \"Total savings/cash assets for the family\": df[\"Total savings/cash assets for the family\"].value_counts().index[0]\n",
        "}\n",
        "\n",
        "df = df.fillna(value=savings_assets_dict)\n",
        "df.isna().sum()"
      ]
    },
    {
      "cell_type": "markdown",
      "metadata": {
        "id": "HZ5iDSZEGrBA"
      },
      "source": [
        "## `Annual family income` Cleaning"
      ]
    },
    {
      "cell_type": "code",
      "execution_count": 21,
      "metadata": {
        "colab": {
          "base_uri": "https://localhost:8080/"
        },
        "id": "NokzIS2C-cJz",
        "outputId": "7f6c5587-314c-4150-effb-74a8621aae8b"
      },
      "outputs": [
        {
          "output_type": "stream",
          "name": "stdout",
          "text": [
            "ANNUAL FAMILY INCOME VALUES:\n",
            "15.0    930\n",
            "6.0     583\n",
            "7.0     542\n",
            "14.0    476\n",
            "8.0     362\n",
            "5.0     349\n",
            "4.0     327\n",
            "9.0     301\n",
            "3.0     278\n",
            "10.0    238\n",
            "1.0     190\n",
            "2.0     172\n",
            "12.0    135\n",
            "99.0    115\n",
            "77.0    101\n",
            "13.0     72\n",
            "Name: Annual family income, dtype: int64\n"
          ]
        }
      ],
      "source": [
        "print('ANNUAL FAMILY INCOME VALUES:\\n', df['Annual family income'].value_counts(), sep='')"
      ]
    },
    {
      "cell_type": "markdown",
      "metadata": {
        "id": "rwWqeCfKG18Y"
      },
      "source": [
        "12.0 -> \\$20,000 and Over\n",
        "\n",
        "13.0 -> \\$20,000 and Under\n",
        "\n"
      ]
    },
    {
      "cell_type": "code",
      "execution_count": 22,
      "metadata": {
        "colab": {
          "base_uri": "https://localhost:8080/"
        },
        "id": "NoKuuanjHXLg",
        "outputId": "66d60e9a-ffc1-46d5-a9f9-400e7f479bad"
      },
      "outputs": [
        {
          "output_type": "stream",
          "name": "stdout",
          "text": [
            "ANNUAL FAMILY INCOME VALUES:\n",
            "15.0    930\n",
            "6.0     583\n",
            "7.0     542\n",
            "14.0    476\n",
            "8.0     362\n",
            "5.0     349\n",
            "4.0     327\n",
            "9.0     301\n",
            "3.0     278\n",
            "10.0    238\n",
            "1.0     190\n",
            "2.0     172\n",
            "99.0    115\n",
            "77.0    101\n",
            "13.0     72\n",
            "Name: Annual family income, dtype: int64\n"
          ]
        }
      ],
      "source": [
        "# Remove instances with income == value 12.0\n",
        "\n",
        "df = df[df['Annual family income'] != 12.0]\n",
        "print('ANNUAL FAMILY INCOME VALUES:\\n', df['Annual family income'].value_counts(), sep='')"
      ]
    },
    {
      "cell_type": "code",
      "execution_count": 23,
      "metadata": {
        "colab": {
          "base_uri": "https://localhost:8080/"
        },
        "id": "ei4iy8t3Hu3T",
        "outputId": "2f80c666-602a-423c-b74b-aa601dbbb2e0"
      },
      "outputs": [
        {
          "output_type": "execute_result",
          "data": {
            "text/plain": [
              "ID                                            0\n",
              "HH ref person's gender                        0\n",
              "HH ref person's age in years                  0\n",
              "HH ref person's education level               0\n",
              "Race/Hispanic origin w/ NH Asian              0\n",
              "Total savings/cash assets for the family      0\n",
              "Annual family income                        462\n",
              "General health condition                      0\n",
              "Body Mass Index (kg/m**2)                    69\n",
              "dtype: int64"
            ]
          },
          "metadata": {},
          "execution_count": 23
        }
      ],
      "source": [
        "# Replace \"Refused\" and \"Don't know\" values with NaN\n",
        "df['Annual family income'] = df['Annual family income'].replace([77.0, 99.0], np.nan)\n",
        "df.isna().sum()"
      ]
    },
    {
      "cell_type": "code",
      "execution_count": 24,
      "metadata": {
        "colab": {
          "base_uri": "https://localhost:8080/"
        },
        "id": "eltCIAVKIDgc",
        "outputId": "dd9886d0-c33d-4c7f-ee2d-100f2fc3a342"
      },
      "outputs": [
        {
          "output_type": "stream",
          "name": "stdout",
          "text": [
            "ANNUAL FAMILY INCOME VALUES:\n",
            "13.0    1039\n",
            "15.0     930\n",
            "6.0      583\n",
            "7.0      542\n",
            "14.0     476\n",
            "8.0      362\n",
            "5.0      349\n",
            "9.0      301\n",
            "10.0     238\n",
            "Name: Annual family income, dtype: int64\n"
          ]
        }
      ],
      "source": [
        "# Replace any ranges below $20k with the general \"Under $20k\" label\n",
        "df['Annual family income'] = df['Annual family income'].replace([1.0, 2.0, 3.0, 4.0], 13.0)\n",
        "print('ANNUAL FAMILY INCOME VALUES:\\n', df['Annual family income'].value_counts(), sep='')"
      ]
    },
    {
      "cell_type": "code",
      "execution_count": 25,
      "metadata": {
        "colab": {
          "base_uri": "https://localhost:8080/"
        },
        "id": "cSdt96FOIzg3",
        "outputId": "c0915d16-d267-4510-9493-9408b1c59781"
      },
      "outputs": [
        {
          "output_type": "execute_result",
          "data": {
            "text/plain": [
              "{0: 13.0, 1: 5.0, 2: 6.0, 3: 7.0, 4: 8.0, 5: 9.0, 6: 10.0, 7: 14.0, 8: 15.0}"
            ]
          },
          "metadata": {},
          "execution_count": 25
        }
      ],
      "source": [
        "# Re-index the feature values\n",
        "ann_fam_income_map = dict(enumerate([13.0, 5.0, 6.0, 7.0, 8.0, 9.0, 10.0, 14.0, 15.0]))\n",
        "ann_fam_income_map"
      ]
    },
    {
      "cell_type": "code",
      "execution_count": 26,
      "metadata": {
        "colab": {
          "base_uri": "https://localhost:8080/"
        },
        "id": "ATvd9Yg7Jotj",
        "outputId": "e6a3d89a-b412-439f-8503-e10272434995"
      },
      "outputs": [
        {
          "output_type": "stream",
          "name": "stdout",
          "text": [
            "ANNUAL FAMILY INCOME VALUES:\n",
            "0.0    1039\n",
            "8.0     930\n",
            "2.0     583\n",
            "3.0     542\n",
            "7.0     476\n",
            "4.0     362\n",
            "1.0     349\n",
            "5.0     301\n",
            "6.0     238\n",
            "Name: Annual family income, dtype: int64\n"
          ]
        }
      ],
      "source": [
        "# Replace the current feature values with the enumerated ones\n",
        "df['Annual family income'] = df['Annual family income'].replace(ann_fam_income_map.values(), ann_fam_income_map.keys())\n",
        "print('ANNUAL FAMILY INCOME VALUES:\\n', df['Annual family income'].value_counts(), sep='')"
      ]
    },
    {
      "cell_type": "code",
      "execution_count": 27,
      "metadata": {
        "colab": {
          "base_uri": "https://localhost:8080/"
        },
        "id": "Q56Ed8A7J_f4",
        "outputId": "a6c8bdf4-1e38-41c5-c20f-ad8461baac67"
      },
      "outputs": [
        {
          "output_type": "execute_result",
          "data": {
            "text/plain": [
              "ID                                           0\n",
              "HH ref person's gender                       0\n",
              "HH ref person's age in years                 0\n",
              "HH ref person's education level              0\n",
              "Race/Hispanic origin w/ NH Asian             0\n",
              "Total savings/cash assets for the family     0\n",
              "Annual family income                         0\n",
              "General health condition                     0\n",
              "Body Mass Index (kg/m**2)                   69\n",
              "dtype: int64"
            ]
          },
          "metadata": {},
          "execution_count": 27
        }
      ],
      "source": [
        "# Replace NA\n",
        "\n",
        "ann_fam_income_dict = {\n",
        "    \"Annual family income\": df[\"Annual family income\"].median()\n",
        "}\n",
        "\n",
        "df = df.fillna(value=ann_fam_income_dict)\n",
        "df.isna().sum()"
      ]
    },
    {
      "cell_type": "markdown",
      "metadata": {
        "id": "I5k0DpGLNG3z"
      },
      "source": [
        "## `General health condition` Cleaning"
      ]
    },
    {
      "cell_type": "code",
      "execution_count": 28,
      "metadata": {
        "colab": {
          "base_uri": "https://localhost:8080/"
        },
        "id": "NWfdJPeRNg5x",
        "outputId": "6383916f-e232-4f54-eda6-f0d696cf5d2e"
      },
      "outputs": [
        {
          "output_type": "stream",
          "name": "stdout",
          "text": [
            "\n",
            "GENERAL HEALTH CONDITION:\n",
            "3.0    2201\n",
            "2.0    1316\n",
            "4.0    1115\n",
            "1.0     485\n",
            "5.0     165\n",
            "Name: General health condition, dtype: int64\n"
          ]
        }
      ],
      "source": [
        "print(\"\\nGeneral health condition:\\n\".upper(), df[\"General health condition\"].value_counts(), sep='')"
      ]
    },
    {
      "cell_type": "markdown",
      "metadata": {
        "id": "rE3ziorBNqrQ"
      },
      "source": [
        "None of these values correspond to \"Refused\" or \"Don't know\", so no extra cleaning is needed."
      ]
    },
    {
      "cell_type": "markdown",
      "metadata": {
        "id": "29WJ79zN5uuM"
      },
      "source": [
        "## `Body Mass Index (kg/m**2)` Cleaning"
      ]
    },
    {
      "cell_type": "code",
      "execution_count": 29,
      "metadata": {
        "colab": {
          "base_uri": "https://localhost:8080/"
        },
        "id": "EiUmRf8A5xua",
        "outputId": "7af3963a-d097-4155-a03c-66bbc3432ba6"
      },
      "outputs": [
        {
          "output_type": "execute_result",
          "data": {
            "text/plain": [
              "ID                                          0\n",
              "HH ref person's gender                      0\n",
              "HH ref person's age in years                0\n",
              "HH ref person's education level             0\n",
              "Race/Hispanic origin w/ NH Asian            0\n",
              "Total savings/cash assets for the family    0\n",
              "Annual family income                        0\n",
              "General health condition                    0\n",
              "Body Mass Index (kg/m**2)                   0\n",
              "dtype: int64"
            ]
          },
          "metadata": {},
          "execution_count": 29
        }
      ],
      "source": [
        "# Remove any NA values\n",
        "\n",
        "df = df[df['Body Mass Index (kg/m**2)'].notna()]\n",
        "df.isna().sum()"
      ]
    },
    {
      "cell_type": "markdown",
      "metadata": {
        "id": "PF81ujj_uAzo"
      },
      "source": [
        "# Modeling"
      ]
    },
    {
      "cell_type": "code",
      "execution_count": 119,
      "metadata": {
        "colab": {
          "base_uri": "https://localhost:8080/"
        },
        "id": "uMbgGeJ2ozMz",
        "outputId": "bf017599-9e24-4c12-9753-f7a41d8abb20"
      },
      "outputs": [
        {
          "output_type": "stream",
          "name": "stdout",
          "text": [
            "Accuracy of Decision Tree:  0.41545613015688554\n",
            "0.41545613015688554\n"
          ]
        }
      ],
      "source": [
        "# Convert the DataFrame to a NumPy array\n",
        "df_arr = df.to_numpy()\n",
        "# Segregate features and labels into separate variables\n",
        "X,y = df_arr[:,1:6] , df_arr[:,7]\n",
        "\n",
        "X_train, X_test, y_train, y_test = train_test_split(X,\n",
        "                                                    y,\n",
        "                                                    test_size=0.33,\n",
        "                                                    random_state=42)\n",
        "scaler = MinMaxScaler(feature_range=(0, 1))\n",
        "X_train = scaler.fit_transform(X_train)\n",
        "X_test = scaler.fit_transform(X_test)\n",
        "\n",
        "clf = tree.DecisionTreeClassifier(random_state=42)\n",
        "clf.fit(X_train, y_train)\n",
        "y_pred = clf.predict(X_test)\n",
        "print(\"Accuracy of Decision Tree: \", clf.score(X_test, y_test))\n",
        "print(f1_score(y_test, y_pred, average='micro'))"
      ]
    },
    {
      "cell_type": "markdown",
      "source": [
        "We can see that our accuracy is ~0.42"
      ],
      "metadata": {
        "id": "LWPrrAUPAKDY"
      }
    },
    {
      "cell_type": "code",
      "source": [
        "# y_bmi = df_arr[:,8]\n",
        "\n",
        "# X_bmi_train, X_bmi_test, y_bmi_train, y_bmi_test = train_test_split(X, y_bmi, test_size=0.33, random_state=42)\n",
        "\n",
        "# scaler = MinMaxScaler(feature_range=(0, 1))\n",
        "# X_bmi_train = scaler.fit_transform(X_bmi_train)\n",
        "# X_bmi_test = scaler.fit_transform(X_bmi_test)\n",
        "\n",
        "# reg = LogisticRegression()\n",
        "# reg.fit(X_bmi_train, y_bmi_train)\n",
        "# y_bmi_pred = reg.predict(X_bmi_test)\n",
        "# print(\"Accuracy of Linear Regression: \", reg.score(X_bmi_test, y_bmi_test))"
      ],
      "metadata": {
        "id": "fvQB5MwKAID1"
      },
      "execution_count": 46,
      "outputs": []
    },
    {
      "cell_type": "code",
      "source": [
        "X_ghc, y_bmi = df_arr[:,7].reshape(-1,1), df_arr[:,8]\n",
        "\n",
        "X_ghc_train, X_ghc_test, y_bmi_train, y_bmi_test = train_test_split(X_ghc, y_bmi, test_size=0.33, random_state=42)\n",
        "\n",
        "reg = LinearRegression()\n",
        "reg.fit(X_ghc_train, y_bmi_train)\n",
        "y_bmi_pred = reg.predict(X_ghc_test)\n",
        "print(\"Accuracy of Linear Regression: \", reg.score(X_ghc_test, y_bmi_test))"
      ],
      "metadata": {
        "colab": {
          "base_uri": "https://localhost:8080/"
        },
        "id": "ARF7nzBFEZuQ",
        "outputId": "84f0e11d-9f8e-42e0-dd18-6a454362ebc9"
      },
      "execution_count": 54,
      "outputs": [
        {
          "output_type": "stream",
          "name": "stdout",
          "text": [
            "Accuracy of Linear Regression:  0.0630335374414831\n"
          ]
        }
      ]
    },
    {
      "cell_type": "code",
      "source": [
        "# # all HH ref people under 50\n",
        "# df_age_l50 = df[df['Annual family income'].isin([5,6,7,8])]\n",
        "\n",
        "# # Convert the DataFrame to a NumPy array\n",
        "# df_age_l50_arr = df_age_l50.to_numpy()\n",
        "# # Segregate features and labels into separate variables\n",
        "# X,y = df_age_l50_arr[:,1:6] , df_age_l50_arr[:,7]\n",
        "\n",
        "# X_train, X_test, y_train, y_test = train_test_split(X,\n",
        "#                                                     y,\n",
        "#                                                     test_size=0.33,\n",
        "#                                                     random_state=42)\n",
        "# scaler = MinMaxScaler(feature_range=(0, 1))\n",
        "# X_train = scaler.fit_transform(X_train)\n",
        "# X_test = scaler.fit_transform(X_test)\n",
        "\n",
        "# clf = tree.DecisionTreeClassifier()\n",
        "# clf.fit(X_train, y_train)\n",
        "# y_pred = clf.predict(X_test)\n",
        "# print(\"Accuracy of Decision Tree: \", clf.score(X_test, y_test))\n",
        "# print(f1_score(y_test, y_pred, average='micro'))"
      ],
      "metadata": {
        "colab": {
          "base_uri": "https://localhost:8080/"
        },
        "id": "Rh58HE-kFvxP",
        "outputId": "387b71d9-0a83-449a-d86e-c8e253589a5f"
      },
      "execution_count": 89,
      "outputs": [
        {
          "output_type": "stream",
          "name": "stdout",
          "text": [
            "Accuracy of Decision Tree:  0.40408805031446543\n",
            "0.40408805031446543\n"
          ]
        }
      ]
    },
    {
      "cell_type": "code",
      "source": [
        "# Define the grid of values for tol and max_iter\n",
        "tol = [0.01, 0.001, 0.0001]\n",
        "max_iter = [1,2,3,4,5]\n",
        "\n",
        "# Create a dictionary where tol and max_iter are keys and the lists of their values are corresponding values\n",
        "param_grid = dict(max_depth=max_iter, max_features=['auto', 'sqrt', 'log2', 0.5], min_samples_split=[3,4,5,6], min_impurity_decrease=[1,2,3,4,5,6], min_weight_fraction_leaf=[0.1,0.2,0.3,0.4,0.5])\n",
        "\n",
        "# Instantiate GridSearchCV with the required parameters\n",
        "grid_model = GridSearchCV(estimator=clf, param_grid=param_grid, cv=5)\n",
        "\n",
        "# Use scaler to rescale X and assign it to rescaledX\n",
        "rescaledX = scaler.fit_transform(X)\n",
        "\n",
        "# Fit data to grid_model\n",
        "grid_model_result = grid_model.fit(rescaledX, y)\n",
        "\n",
        "# Summarize results\n",
        "best_score, best_params = grid_model_result.best_score_, grid_model_result.best_params_\n",
        "print(\"Best: %f using %s\" % (best_score, best_params))"
      ],
      "metadata": {
        "colab": {
          "base_uri": "https://localhost:8080/"
        },
        "id": "3ztlEbUxIPWE",
        "outputId": "a2882a37-ca2b-4aa7-d247-47ac8dec38fd"
      },
      "execution_count": 136,
      "outputs": [
        {
          "output_type": "stream",
          "name": "stdout",
          "text": [
            "Best: 0.416842 using {'max_depth': 1, 'max_features': 'auto', 'min_impurity_decrease': 1, 'min_samples_split': 3, 'min_weight_fraction_leaf': 0.1}\n"
          ]
        }
      ]
    },
    {
      "cell_type": "code",
      "source": [
        "from sklearn.model_selection import KFold, cross_val_score\n",
        "\n",
        "# Set up our K-fold cross-validation\n",
        "kf = KFold(42)\n",
        "\n",
        "# Train our models using KFold cv\n",
        "tree_score = cross_val_score(clf, X, y, cv=kf)\n",
        "\n",
        "# Print the mean of each array of scores\n",
        "print(\"Decision Tree:\", np.mean(tree_score))"
      ],
      "metadata": {
        "colab": {
          "base_uri": "https://localhost:8080/"
        },
        "id": "xy-3BYYjNsJU",
        "outputId": "df72e11f-9bbb-4f29-9599-bce5d092adce"
      },
      "execution_count": 145,
      "outputs": [
        {
          "output_type": "stream",
          "name": "stdout",
          "text": [
            "Decision Tree: 0.41183102918586784\n"
          ]
        }
      ]
    },
    {
      "cell_type": "code",
      "source": [
        "clf.get_params().keys()"
      ],
      "metadata": {
        "colab": {
          "base_uri": "https://localhost:8080/"
        },
        "id": "kbojHKTDKGfc",
        "outputId": "0b920de9-b07b-4809-bd27-bd0a82717804"
      },
      "execution_count": 97,
      "outputs": [
        {
          "output_type": "execute_result",
          "data": {
            "text/plain": [
              "dict_keys(['ccp_alpha', 'class_weight', 'criterion', 'max_depth', 'max_features', 'max_leaf_nodes', 'min_impurity_decrease', 'min_samples_leaf', 'min_samples_split', 'min_weight_fraction_leaf', 'random_state', 'splitter'])"
            ]
          },
          "metadata": {},
          "execution_count": 97
        }
      ]
    }
  ],
  "metadata": {
    "colab": {
      "collapsed_sections": [],
      "name": "Preliminary_Analysis.ipynb",
      "provenance": [],
      "toc_visible": true,
      "include_colab_link": true
    },
    "kernelspec": {
      "display_name": "Python 3",
      "language": "python",
      "name": "python3"
    },
    "language_info": {
      "codemirror_mode": {
        "name": "ipython",
        "version": 3
      },
      "file_extension": ".py",
      "mimetype": "text/x-python",
      "name": "python",
      "nbconvert_exporter": "python",
      "pygments_lexer": "ipython3",
      "version": "3.7.10"
    }
  },
  "nbformat": 4,
  "nbformat_minor": 0
}