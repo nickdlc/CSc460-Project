{
 "cells": [
  {
   "cell_type": "markdown",
   "metadata": {
    "colab_type": "text",
    "id": "view-in-github"
   },
   "source": [
    "<a href=\"https://colab.research.google.com/github/nickdlc/CSc460-Project/blob/main/Preliminary_Analysis.ipynb\" target=\"_parent\"><img src=\"https://colab.research.google.com/assets/colab-badge.svg\" alt=\"Open In Colab\"/></a>"
   ]
  },
  {
   "cell_type": "code",
   "execution_count": 118,
   "metadata": {
    "id": "unCOOIqU_3q1"
   },
   "outputs": [],
   "source": [
    "import pandas as pd\n",
    "import numpy as np\n",
    "import matplotlib.pyplot as plt\n",
    "import seaborn as sns\n",
    "\n",
    "from sklearn.preprocessing import MinMaxScaler\n",
    "from sklearn.model_selection import train_test_split\n",
    "from sklearn.metrics import confusion_matrix\n",
    "from sklearn.tree import DecisionTreeClassifier\n",
    "from sklearn import tree\n",
    "from sklearn.metrics import f1_score\n",
    "\n",
    "\n",
    "%matplotlib inline"
   ]
  },
  {
   "cell_type": "markdown",
   "metadata": {
    "id": "B1aoKzDtt378"
   },
   "source": [
    "# Exploratory Data Analysis"
   ]
  },
  {
   "cell_type": "markdown",
   "metadata": {
    "id": "Fshfor4YozMH"
   },
   "source": [
    "## Does Demographic, Occupation, and Income influence people's perceptions on their health?\n",
    "\n",
    "Dataset Source: NHANES 2017-2018\n",
    "https://wwwn.cdc.gov/nchs/nhanes/continuousnhanes/default.aspx?BeginYear=2017\n",
    "\n",
    "## Our y is BMI and General health condition from the Body Measures and Current Health Status Datasets respectively"
   ]
  },
  {
   "cell_type": "code",
   "execution_count": 119,
   "metadata": {
    "colab": {
     "base_uri": "https://localhost:8080/",
     "height": 330
    },
    "id": "_HmpJiiGozMM",
    "outputId": "7fe74168-ef5d-44b7-d03a-d1cb6a4a50e9"
   },
   "outputs": [
    {
     "data": {
      "text/html": [
       "<div>\n",
       "<style scoped>\n",
       "    .dataframe tbody tr th:only-of-type {\n",
       "        vertical-align: middle;\n",
       "    }\n",
       "\n",
       "    .dataframe tbody tr th {\n",
       "        vertical-align: top;\n",
       "    }\n",
       "\n",
       "    .dataframe thead th {\n",
       "        text-align: right;\n",
       "    }\n",
       "</style>\n",
       "<table border=\"1\" class=\"dataframe\">\n",
       "  <thead>\n",
       "    <tr style=\"text-align: right;\">\n",
       "      <th></th>\n",
       "      <th>ID</th>\n",
       "      <th>Data release cycle</th>\n",
       "      <th>Interview/Examination status</th>\n",
       "      <th>Gender</th>\n",
       "      <th>Age in years at screening</th>\n",
       "      <th>Age in months at screening - 0 to 24 mos</th>\n",
       "      <th>Race/Hispanic origin</th>\n",
       "      <th>Race/Hispanic origin w/ NH Asian</th>\n",
       "      <th>Six month time period</th>\n",
       "      <th>Age in months at exam - 0 to 19 years</th>\n",
       "      <th>...</th>\n",
       "      <th>How do you get to the grocery store?</th>\n",
       "      <th>Type of Work</th>\n",
       "      <th>Hours Worked Last Week</th>\n",
       "      <th>Usually Work 35 or More Hours?</th>\n",
       "      <th>Type of Employee</th>\n",
       "      <th>Months Worked</th>\n",
       "      <th>Overall Work Schedule</th>\n",
       "      <th>Main Reason for Not Working</th>\n",
       "      <th>Kind of Occupation Done the Longest</th>\n",
       "      <th>Duration of Longest Job</th>\n",
       "    </tr>\n",
       "  </thead>\n",
       "  <tbody>\n",
       "    <tr>\n",
       "      <th>0</th>\n",
       "      <td>93705.0</td>\n",
       "      <td>10.0</td>\n",
       "      <td>2.0</td>\n",
       "      <td>2.0</td>\n",
       "      <td>66.0</td>\n",
       "      <td>NaN</td>\n",
       "      <td>4.0</td>\n",
       "      <td>4.0</td>\n",
       "      <td>2.0</td>\n",
       "      <td>NaN</td>\n",
       "      <td>...</td>\n",
       "      <td>1.0</td>\n",
       "      <td>1.0</td>\n",
       "      <td>30.0</td>\n",
       "      <td>1.0</td>\n",
       "      <td>1.0</td>\n",
       "      <td>36.0</td>\n",
       "      <td>5.0</td>\n",
       "      <td>NaN</td>\n",
       "      <td>2.0</td>\n",
       "      <td>NaN</td>\n",
       "    </tr>\n",
       "    <tr>\n",
       "      <th>1</th>\n",
       "      <td>93706.0</td>\n",
       "      <td>10.0</td>\n",
       "      <td>2.0</td>\n",
       "      <td>1.0</td>\n",
       "      <td>18.0</td>\n",
       "      <td>NaN</td>\n",
       "      <td>5.0</td>\n",
       "      <td>6.0</td>\n",
       "      <td>2.0</td>\n",
       "      <td>222.0</td>\n",
       "      <td>...</td>\n",
       "      <td>NaN</td>\n",
       "      <td>4.0</td>\n",
       "      <td>NaN</td>\n",
       "      <td>NaN</td>\n",
       "      <td>NaN</td>\n",
       "      <td>NaN</td>\n",
       "      <td>NaN</td>\n",
       "      <td>2.0</td>\n",
       "      <td>4.0</td>\n",
       "      <td>NaN</td>\n",
       "    </tr>\n",
       "    <tr>\n",
       "      <th>2</th>\n",
       "      <td>93708.0</td>\n",
       "      <td>10.0</td>\n",
       "      <td>2.0</td>\n",
       "      <td>2.0</td>\n",
       "      <td>66.0</td>\n",
       "      <td>NaN</td>\n",
       "      <td>5.0</td>\n",
       "      <td>6.0</td>\n",
       "      <td>2.0</td>\n",
       "      <td>NaN</td>\n",
       "      <td>...</td>\n",
       "      <td>1.0</td>\n",
       "      <td>4.0</td>\n",
       "      <td>NaN</td>\n",
       "      <td>NaN</td>\n",
       "      <td>NaN</td>\n",
       "      <td>NaN</td>\n",
       "      <td>NaN</td>\n",
       "      <td>4.0</td>\n",
       "      <td>1.0</td>\n",
       "      <td>180.0</td>\n",
       "    </tr>\n",
       "    <tr>\n",
       "      <th>3</th>\n",
       "      <td>93709.0</td>\n",
       "      <td>10.0</td>\n",
       "      <td>2.0</td>\n",
       "      <td>2.0</td>\n",
       "      <td>75.0</td>\n",
       "      <td>NaN</td>\n",
       "      <td>4.0</td>\n",
       "      <td>4.0</td>\n",
       "      <td>1.0</td>\n",
       "      <td>NaN</td>\n",
       "      <td>...</td>\n",
       "      <td>3.0</td>\n",
       "      <td>4.0</td>\n",
       "      <td>NaN</td>\n",
       "      <td>NaN</td>\n",
       "      <td>NaN</td>\n",
       "      <td>NaN</td>\n",
       "      <td>NaN</td>\n",
       "      <td>6.0</td>\n",
       "      <td>1.0</td>\n",
       "      <td>360.0</td>\n",
       "    </tr>\n",
       "    <tr>\n",
       "      <th>4</th>\n",
       "      <td>93711.0</td>\n",
       "      <td>10.0</td>\n",
       "      <td>2.0</td>\n",
       "      <td>1.0</td>\n",
       "      <td>56.0</td>\n",
       "      <td>NaN</td>\n",
       "      <td>5.0</td>\n",
       "      <td>6.0</td>\n",
       "      <td>2.0</td>\n",
       "      <td>NaN</td>\n",
       "      <td>...</td>\n",
       "      <td>1.0</td>\n",
       "      <td>1.0</td>\n",
       "      <td>35.0</td>\n",
       "      <td>NaN</td>\n",
       "      <td>4.0</td>\n",
       "      <td>24.0</td>\n",
       "      <td>1.0</td>\n",
       "      <td>NaN</td>\n",
       "      <td>2.0</td>\n",
       "      <td>NaN</td>\n",
       "    </tr>\n",
       "  </tbody>\n",
       "</table>\n",
       "<p>5 rows × 70 columns</p>\n",
       "</div>"
      ],
      "text/plain": [
       "        ID  Data release cycle  Interview/Examination status  Gender  \\\n",
       "0  93705.0                10.0                           2.0     2.0   \n",
       "1  93706.0                10.0                           2.0     1.0   \n",
       "2  93708.0                10.0                           2.0     2.0   \n",
       "3  93709.0                10.0                           2.0     2.0   \n",
       "4  93711.0                10.0                           2.0     1.0   \n",
       "\n",
       "   Age in years at screening  Age in months at screening - 0 to 24 mos  \\\n",
       "0                       66.0                                       NaN   \n",
       "1                       18.0                                       NaN   \n",
       "2                       66.0                                       NaN   \n",
       "3                       75.0                                       NaN   \n",
       "4                       56.0                                       NaN   \n",
       "\n",
       "   Race/Hispanic origin  Race/Hispanic origin w/ NH Asian  \\\n",
       "0                   4.0                               4.0   \n",
       "1                   5.0                               6.0   \n",
       "2                   5.0                               6.0   \n",
       "3                   4.0                               4.0   \n",
       "4                   5.0                               6.0   \n",
       "\n",
       "   Six month time period  Age in months at exam - 0 to 19 years  ...  \\\n",
       "0                    2.0                                    NaN  ...   \n",
       "1                    2.0                                  222.0  ...   \n",
       "2                    2.0                                    NaN  ...   \n",
       "3                    1.0                                    NaN  ...   \n",
       "4                    2.0                                    NaN  ...   \n",
       "\n",
       "   How do you get to the grocery store?  Type of Work  Hours Worked Last Week  \\\n",
       "0                                   1.0           1.0                    30.0   \n",
       "1                                   NaN           4.0                     NaN   \n",
       "2                                   1.0           4.0                     NaN   \n",
       "3                                   3.0           4.0                     NaN   \n",
       "4                                   1.0           1.0                    35.0   \n",
       "\n",
       "   Usually Work 35 or More Hours?  Type of Employee  Months Worked  \\\n",
       "0                             1.0               1.0           36.0   \n",
       "1                             NaN               NaN            NaN   \n",
       "2                             NaN               NaN            NaN   \n",
       "3                             NaN               NaN            NaN   \n",
       "4                             NaN               4.0           24.0   \n",
       "\n",
       "   Overall Work Schedule  Main Reason for Not Working  \\\n",
       "0                    5.0                          NaN   \n",
       "1                    NaN                          2.0   \n",
       "2                    NaN                          4.0   \n",
       "3                    NaN                          6.0   \n",
       "4                    1.0                          NaN   \n",
       "\n",
       "   Kind of Occupation Done the Longest  Duration of Longest Job  \n",
       "0                                  2.0                      NaN  \n",
       "1                                  4.0                      NaN  \n",
       "2                                  1.0                    180.0  \n",
       "3                                  1.0                    360.0  \n",
       "4                                  2.0                      NaN  \n",
       "\n",
       "[5 rows x 70 columns]"
      ]
     },
     "execution_count": 119,
     "metadata": {},
     "output_type": "execute_result"
    }
   ],
   "source": [
    "# Demographic Data\n",
    "# https://wwwn.cdc.gov/Nchs/Nhanes/2017-2018/DEMO_J.htm\n",
    "link = 'https://wwwn.cdc.gov/Nchs/Nhanes/2017-2018/DEMO_J.XPT'\n",
    "demo_cols = ['ID',\n",
    "             'Data release cycle',\n",
    "             'Interview/Examination status',\n",
    "             'Gender',\n",
    "             'Age in years at screening',\n",
    "             'Age in months at screening - 0 to 24 mos',\n",
    "             'Race/Hispanic origin',\n",
    "             'Race/Hispanic origin w/ NH Asian',\n",
    "             'Six month time period',\n",
    "             'Age in months at exam - 0 to 19 years',\n",
    "             'Served active duty in US Armed Forces',\n",
    "             'Served in a foreign country',\n",
    "             'Country of birth',\n",
    "             'Citizenship status',\n",
    "             'Length of time in US',\n",
    "             'Education level - Children/Youth 6-19',\n",
    "             'Education level - Adults 20+',\n",
    "             'Marital status',\n",
    "             'Pregnancy status at exam',\n",
    "             'Language of SP Interview',\n",
    "             'Proxy used in SP Interview?',\n",
    "             'Interpreter used in SP Interview?',\n",
    "             'Language of Family Interview',\n",
    "             'Proxy used in Family Interview?',\n",
    "             'Interpreter used in Family Interview?',\n",
    "             'Language of MEC Interview',\n",
    "             'Proxy used in MEC Interview?',\n",
    "             'Interpreter used in MEC Interview?',\n",
    "             'Language of ACASI Interview',\n",
    "             'Total number of people in the Household',\n",
    "             'Total number of people in the Family',\n",
    "             '# of children 5 years or younger in HH',\n",
    "             '# of children 6-17 years old in HH',\n",
    "             '# of adults 60 years or older in HH',\n",
    "             'HH ref person\\'s gender',\n",
    "             'HH ref person\\'s age in years',\n",
    "             'HH ref person\\'s education level',\n",
    "             'HH ref person\\'s marital status',\n",
    "             'HH ref person\\'s spouse\\'s education level',\n",
    "             'Full sample 2 year interview weight',\n",
    "             'Full sample 2 year MEC exam weight',\n",
    "             'Masked variance pseudo-PSU',\n",
    "             'Masked variance pseudo-stratum',\n",
    "             'Annual household income',\n",
    "             'Annual family income',\n",
    "             'Ratio of family income to poverty']\n",
    "demo_df = pd.read_sas(link)\n",
    "demo_df.columns = demo_cols\n",
    "\n",
    "# Occupation and Income\n",
    "# Occupation: https://wwwn.cdc.gov/Nchs/Nhanes/2017-2018/OCQ_J.htm\n",
    "# Income: https://wwwn.cdc.gov/Nchs/Nhanes/2017-2018/INQ_J.htm\n",
    "occ_link = 'https://wwwn.cdc.gov/Nchs/Nhanes/2017-2018/OCQ_J.XPT'\n",
    "inc_link = 'https://wwwn.cdc.gov/Nchs/Nhanes/2017-2018/INQ_J.XPT'\n",
    "occ_cols = ['ID',\n",
    "            'Type of Work', \n",
    "            'Hours Worked Last Week', \n",
    "            'Usually Work 35 or More Hours?', \n",
    "            'Type of Employee', \n",
    "            'Months Worked', \n",
    "            'Overall Work Schedule', \n",
    "            'Main Reason for Not Working', \n",
    "            'Kind of Occupation Done the Longest', \n",
    "            'Duration of Longest Job']\n",
    "inc_cols = ['ID',\n",
    "            'Income from wages/salaries?',\n",
    "            'Income from self employment?',\n",
    "            'Income from Social Security or RR?',\n",
    "            'Income from other disability pension?',\n",
    "            'Income from retirement/survivor pension?',\n",
    "            'Income from Supplemental Security Income?',\n",
    "            'Income from state/county cash assistance?',\n",
    "            'Income from interest/dividends or rental?',\n",
    "            'Income from other sources?',\n",
    "            'Monthly family income',\n",
    "            'Family monthly poverty level index',\n",
    "            'Family monthly poverty level category',\n",
    "            'Family has savings more than $20,000?',\n",
    "            'Total savings/cash assets for the family',\n",
    "            'How do you get to the grocery store?']\n",
    "occ_df = pd.read_sas(occ_link)\n",
    "inc_df = pd.read_sas(inc_link)\n",
    "occ_df.columns = occ_cols\n",
    "inc_df.columns = inc_cols\n",
    "inc_occ_df = pd.merge(inc_df, occ_df, on=\"ID\")\n",
    "\n",
    "X_df = pd.merge(demo_df, inc_occ_df, on=\"ID\")\n",
    "X_df.head(5)"
   ]
  },
  {
   "cell_type": "code",
   "execution_count": 120,
   "metadata": {
    "colab": {
     "base_uri": "https://localhost:8080/"
    },
    "id": "vqWmkq3XozMR",
    "outputId": "1b2663ee-aae7-4a4b-f4a4-de92cadc05b4"
   },
   "outputs": [
    {
     "name": "stdout",
     "output_type": "stream",
     "text": [
      "<class 'pandas.core.frame.DataFrame'>\n",
      "Int64Index: 6161 entries, 0 to 6160\n",
      "Data columns (total 70 columns):\n",
      " #   Column                                     Non-Null Count  Dtype  \n",
      "---  ------                                     --------------  -----  \n",
      " 0   ID                                         6161 non-null   float64\n",
      " 1   Data release cycle                         6161 non-null   float64\n",
      " 2   Interview/Examination status               6161 non-null   float64\n",
      " 3   Gender                                     6161 non-null   float64\n",
      " 4   Age in years at screening                  6161 non-null   float64\n",
      " 5   Age in months at screening - 0 to 24 mos   0 non-null      float64\n",
      " 6   Race/Hispanic origin                       6161 non-null   float64\n",
      " 7   Race/Hispanic origin w/ NH Asian           6161 non-null   float64\n",
      " 8   Six month time period                      5828 non-null   float64\n",
      " 9   Age in months at exam - 0 to 19 years      557 non-null    float64\n",
      " 10  Served active duty in US Armed Forces      6004 non-null   float64\n",
      " 11  Served in a foreign country                561 non-null    float64\n",
      " 12  Country of birth                           6161 non-null   float64\n",
      " 13  Citizenship status                         6158 non-null   float64\n",
      " 14  Length of time in US                       1819 non-null   float64\n",
      " 15  Education level - Children/Youth 6-19      592 non-null    float64\n",
      " 16  Education level - Adults 20+               5569 non-null   float64\n",
      " 17  Marital status                             5569 non-null   float64\n",
      " 18  Pregnancy status at exam                   1110 non-null   float64\n",
      " 19  Language of SP Interview                   6161 non-null   float64\n",
      " 20  Proxy used in SP Interview?                6161 non-null   float64\n",
      " 21  Interpreter used in SP Interview?          6161 non-null   float64\n",
      " 22  Language of Family Interview               5816 non-null   float64\n",
      " 23  Proxy used in Family Interview?            5816 non-null   float64\n",
      " 24  Interpreter used in Family Interview?      5816 non-null   float64\n",
      " 25  Language of MEC Interview                  5427 non-null   float64\n",
      " 26  Proxy used in MEC Interview?               5427 non-null   float64\n",
      " 27  Interpreter used in MEC Interview?         5427 non-null   float64\n",
      " 28  Language of ACASI Interview                4436 non-null   float64\n",
      " 29  Total number of people in the Household    6161 non-null   float64\n",
      " 30  Total number of people in the Family       6161 non-null   float64\n",
      " 31  # of children 5 years or younger in HH     6161 non-null   float64\n",
      " 32  # of children 6-17 years old in HH         6161 non-null   float64\n",
      " 33  # of adults 60 years or older in HH        6161 non-null   float64\n",
      " 34  HH ref person's gender                     6161 non-null   float64\n",
      " 35  HH ref person's age in years               6161 non-null   float64\n",
      " 36  HH ref person's education level            5854 non-null   float64\n",
      " 37  HH ref person's marital status             6027 non-null   float64\n",
      " 38  HH ref person's spouse's education level   3031 non-null   float64\n",
      " 39  Full sample 2 year interview weight        6161 non-null   float64\n",
      " 40  Full sample 2 year MEC exam weight         6161 non-null   float64\n",
      " 41  Masked variance pseudo-PSU                 6161 non-null   float64\n",
      " 42  Masked variance pseudo-stratum             6161 non-null   float64\n",
      " 43  Annual household income                    5801 non-null   float64\n",
      " 44  Annual family income                       5816 non-null   float64\n",
      " 45  Ratio of family income to poverty          5292 non-null   float64\n",
      " 46  Income from wages/salaries?                5816 non-null   float64\n",
      " 47  Income from self employment?               5816 non-null   float64\n",
      " 48  Income from Social Security or RR?         5816 non-null   float64\n",
      " 49  Income from other disability pension?      5816 non-null   float64\n",
      " 50  Income from retirement/survivor pension?   5816 non-null   float64\n",
      " 51  Income from Supplemental Security Income?  5816 non-null   float64\n",
      " 52  Income from state/county cash assistance?  5816 non-null   float64\n",
      " 53  Income from interest/dividends or rental?  5816 non-null   float64\n",
      " 54  Income from other sources?                 5816 non-null   float64\n",
      " 55  Monthly family income                      5682 non-null   float64\n",
      " 56  Family monthly poverty level index         4903 non-null   float64\n",
      " 57  Family monthly poverty level category      5679 non-null   float64\n",
      " 58  Family has savings more than $20,000?      5682 non-null   float64\n",
      " 59  Total savings/cash assets for the family   3871 non-null   float64\n",
      " 60  How do you get to the grocery store?       5816 non-null   float64\n",
      " 61  Type of Work                               6161 non-null   float64\n",
      " 62  Hours Worked Last Week                     3141 non-null   float64\n",
      " 63  Usually Work 35 or More Hours?             1014 non-null   float64\n",
      " 64  Type of Employee                           3263 non-null   float64\n",
      " 65  Months Worked                              3263 non-null   float64\n",
      " 66  Overall Work Schedule                      3262 non-null   float64\n",
      " 67  Main Reason for Not Working                2625 non-null   float64\n",
      " 68  Kind of Occupation Done the Longest        6161 non-null   float64\n",
      " 69  Duration of Longest Job                    3785 non-null   float64\n",
      "dtypes: float64(70)\n",
      "memory usage: 3.3 MB\n"
     ]
    }
   ],
   "source": [
    "X_df.info()"
   ]
  },
  {
   "cell_type": "code",
   "execution_count": 121,
   "metadata": {
    "colab": {
     "base_uri": "https://localhost:8080/",
     "height": 330
    },
    "id": "4Z4idp89ozMT",
    "outputId": "db3358e2-a3ff-4644-adbe-ff6475b34680"
   },
   "outputs": [
    {
     "data": {
      "text/html": [
       "<div>\n",
       "<style scoped>\n",
       "    .dataframe tbody tr th:only-of-type {\n",
       "        vertical-align: middle;\n",
       "    }\n",
       "\n",
       "    .dataframe tbody tr th {\n",
       "        vertical-align: top;\n",
       "    }\n",
       "\n",
       "    .dataframe thead th {\n",
       "        text-align: right;\n",
       "    }\n",
       "</style>\n",
       "<table border=\"1\" class=\"dataframe\">\n",
       "  <thead>\n",
       "    <tr style=\"text-align: right;\">\n",
       "      <th></th>\n",
       "      <th>ID</th>\n",
       "      <th>General health condition</th>\n",
       "      <th>SP have head cold or chest cold</th>\n",
       "      <th>SP have stomach or intestinal illness?</th>\n",
       "      <th>SP have flu, pneumonia, ear infection?</th>\n",
       "      <th>SP donated blood in past 12 months?</th>\n",
       "      <th>How long ago was last blood donation?</th>\n",
       "      <th>Blood ever tested for HIV virus?</th>\n",
       "      <th>Source of Health Status Data</th>\n",
       "      <th>Body Measures Component Status Code</th>\n",
       "      <th>...</th>\n",
       "      <th>Upper Leg Length (cm)</th>\n",
       "      <th>Upper Leg Length Comment</th>\n",
       "      <th>Upper Arm Length (cm)</th>\n",
       "      <th>Upper Arm Length Comment</th>\n",
       "      <th>Arm Circumference (cm)</th>\n",
       "      <th>Arm Circumference Comment</th>\n",
       "      <th>Waist Circumference (cm)</th>\n",
       "      <th>Waist Circumference Comment</th>\n",
       "      <th>Hip Circumference (cm)</th>\n",
       "      <th>Hip Circumference Comment</th>\n",
       "    </tr>\n",
       "  </thead>\n",
       "  <tbody>\n",
       "    <tr>\n",
       "      <th>0</th>\n",
       "      <td>93703.0</td>\n",
       "      <td>NaN</td>\n",
       "      <td>NaN</td>\n",
       "      <td>NaN</td>\n",
       "      <td>NaN</td>\n",
       "      <td>NaN</td>\n",
       "      <td>NaN</td>\n",
       "      <td>NaN</td>\n",
       "      <td>1.0</td>\n",
       "      <td>1.0</td>\n",
       "      <td>...</td>\n",
       "      <td>NaN</td>\n",
       "      <td>NaN</td>\n",
       "      <td>18.0</td>\n",
       "      <td>NaN</td>\n",
       "      <td>16.2</td>\n",
       "      <td>NaN</td>\n",
       "      <td>48.2</td>\n",
       "      <td>NaN</td>\n",
       "      <td>NaN</td>\n",
       "      <td>NaN</td>\n",
       "    </tr>\n",
       "    <tr>\n",
       "      <th>1</th>\n",
       "      <td>93704.0</td>\n",
       "      <td>NaN</td>\n",
       "      <td>2.0</td>\n",
       "      <td>2.0</td>\n",
       "      <td>2.0</td>\n",
       "      <td>NaN</td>\n",
       "      <td>NaN</td>\n",
       "      <td>NaN</td>\n",
       "      <td>1.0</td>\n",
       "      <td>1.0</td>\n",
       "      <td>...</td>\n",
       "      <td>NaN</td>\n",
       "      <td>NaN</td>\n",
       "      <td>18.6</td>\n",
       "      <td>NaN</td>\n",
       "      <td>15.2</td>\n",
       "      <td>NaN</td>\n",
       "      <td>50.0</td>\n",
       "      <td>NaN</td>\n",
       "      <td>NaN</td>\n",
       "      <td>NaN</td>\n",
       "    </tr>\n",
       "    <tr>\n",
       "      <th>2</th>\n",
       "      <td>93705.0</td>\n",
       "      <td>3.0</td>\n",
       "      <td>2.0</td>\n",
       "      <td>2.0</td>\n",
       "      <td>2.0</td>\n",
       "      <td>2.0</td>\n",
       "      <td>NaN</td>\n",
       "      <td>1.0</td>\n",
       "      <td>2.0</td>\n",
       "      <td>1.0</td>\n",
       "      <td>...</td>\n",
       "      <td>37.0</td>\n",
       "      <td>NaN</td>\n",
       "      <td>36.0</td>\n",
       "      <td>NaN</td>\n",
       "      <td>32.0</td>\n",
       "      <td>NaN</td>\n",
       "      <td>101.8</td>\n",
       "      <td>NaN</td>\n",
       "      <td>110.0</td>\n",
       "      <td>NaN</td>\n",
       "    </tr>\n",
       "    <tr>\n",
       "      <th>3</th>\n",
       "      <td>93706.0</td>\n",
       "      <td>2.0</td>\n",
       "      <td>2.0</td>\n",
       "      <td>2.0</td>\n",
       "      <td>2.0</td>\n",
       "      <td>1.0</td>\n",
       "      <td>5.0</td>\n",
       "      <td>2.0</td>\n",
       "      <td>2.0</td>\n",
       "      <td>1.0</td>\n",
       "      <td>...</td>\n",
       "      <td>46.6</td>\n",
       "      <td>NaN</td>\n",
       "      <td>38.8</td>\n",
       "      <td>NaN</td>\n",
       "      <td>27.0</td>\n",
       "      <td>NaN</td>\n",
       "      <td>79.3</td>\n",
       "      <td>NaN</td>\n",
       "      <td>94.4</td>\n",
       "      <td>NaN</td>\n",
       "    </tr>\n",
       "    <tr>\n",
       "      <th>4</th>\n",
       "      <td>93707.0</td>\n",
       "      <td>3.0</td>\n",
       "      <td>2.0</td>\n",
       "      <td>2.0</td>\n",
       "      <td>2.0</td>\n",
       "      <td>NaN</td>\n",
       "      <td>NaN</td>\n",
       "      <td>NaN</td>\n",
       "      <td>2.0</td>\n",
       "      <td>1.0</td>\n",
       "      <td>...</td>\n",
       "      <td>38.1</td>\n",
       "      <td>NaN</td>\n",
       "      <td>33.8</td>\n",
       "      <td>NaN</td>\n",
       "      <td>21.5</td>\n",
       "      <td>NaN</td>\n",
       "      <td>64.1</td>\n",
       "      <td>NaN</td>\n",
       "      <td>83.0</td>\n",
       "      <td>NaN</td>\n",
       "    </tr>\n",
       "  </tbody>\n",
       "</table>\n",
       "<p>5 rows × 29 columns</p>\n",
       "</div>"
      ],
      "text/plain": [
       "        ID  General health condition  SP have head cold or chest cold  \\\n",
       "0  93703.0                       NaN                              NaN   \n",
       "1  93704.0                       NaN                              2.0   \n",
       "2  93705.0                       3.0                              2.0   \n",
       "3  93706.0                       2.0                              2.0   \n",
       "4  93707.0                       3.0                              2.0   \n",
       "\n",
       "   SP have stomach or intestinal illness?  \\\n",
       "0                                     NaN   \n",
       "1                                     2.0   \n",
       "2                                     2.0   \n",
       "3                                     2.0   \n",
       "4                                     2.0   \n",
       "\n",
       "   SP have flu, pneumonia, ear infection?  \\\n",
       "0                                     NaN   \n",
       "1                                     2.0   \n",
       "2                                     2.0   \n",
       "3                                     2.0   \n",
       "4                                     2.0   \n",
       "\n",
       "   SP donated blood in past 12 months?  How long ago was last blood donation?  \\\n",
       "0                                  NaN                                    NaN   \n",
       "1                                  NaN                                    NaN   \n",
       "2                                  2.0                                    NaN   \n",
       "3                                  1.0                                    5.0   \n",
       "4                                  NaN                                    NaN   \n",
       "\n",
       "   Blood ever tested for HIV virus?  Source of Health Status Data  \\\n",
       "0                               NaN                           1.0   \n",
       "1                               NaN                           1.0   \n",
       "2                               1.0                           2.0   \n",
       "3                               2.0                           2.0   \n",
       "4                               NaN                           2.0   \n",
       "\n",
       "   Body Measures Component Status Code  ...  Upper Leg Length (cm)  \\\n",
       "0                                  1.0  ...                    NaN   \n",
       "1                                  1.0  ...                    NaN   \n",
       "2                                  1.0  ...                   37.0   \n",
       "3                                  1.0  ...                   46.6   \n",
       "4                                  1.0  ...                   38.1   \n",
       "\n",
       "   Upper Leg Length Comment  Upper Arm Length (cm)  Upper Arm Length Comment  \\\n",
       "0                       NaN                   18.0                       NaN   \n",
       "1                       NaN                   18.6                       NaN   \n",
       "2                       NaN                   36.0                       NaN   \n",
       "3                       NaN                   38.8                       NaN   \n",
       "4                       NaN                   33.8                       NaN   \n",
       "\n",
       "   Arm Circumference (cm)  Arm Circumference Comment  \\\n",
       "0                    16.2                        NaN   \n",
       "1                    15.2                        NaN   \n",
       "2                    32.0                        NaN   \n",
       "3                    27.0                        NaN   \n",
       "4                    21.5                        NaN   \n",
       "\n",
       "   Waist Circumference (cm)  Waist Circumference Comment  \\\n",
       "0                      48.2                          NaN   \n",
       "1                      50.0                          NaN   \n",
       "2                     101.8                          NaN   \n",
       "3                      79.3                          NaN   \n",
       "4                      64.1                          NaN   \n",
       "\n",
       "   Hip Circumference (cm)  Hip Circumference Comment  \n",
       "0                     NaN                        NaN  \n",
       "1                     NaN                        NaN  \n",
       "2                   110.0                        NaN  \n",
       "3                    94.4                        NaN  \n",
       "4                    83.0                        NaN  \n",
       "\n",
       "[5 rows x 29 columns]"
      ]
     },
     "execution_count": 121,
     "metadata": {},
     "output_type": "execute_result"
    }
   ],
   "source": [
    "# Current Health Status\n",
    "# https://wwwn.cdc.gov/Nchs/Nhanes/2017-2018/HSQ_J.htm\n",
    "link = 'https://wwwn.cdc.gov/Nchs/Nhanes/2017-2018/HSQ_J.XPT'\n",
    "healthstat_cols = ['ID',\n",
    "                   'General health condition',\n",
    "                   'SP have head cold or chest cold',\n",
    "                   'SP have stomach or intestinal illness?',\n",
    "                   'SP have flu, pneumonia, ear infection?',\n",
    "                   'SP donated blood in past 12 months?',\n",
    "                   'How long ago was last blood donation?',\n",
    "                   'Blood ever tested for HIV virus?',\n",
    "                   'Source of Health Status Data']\n",
    "heathstat_df = pd.read_sas(link)\n",
    "heathstat_df.columns = healthstat_cols\n",
    "\n",
    "# Body Measures\n",
    "# https://wwwn.cdc.gov/Nchs/Nhanes/2017-2018/BMX_J.htm\n",
    "link = 'https://wwwn.cdc.gov/Nchs/Nhanes/2017-2018/BMX_J.XPT'\n",
    "body_cols = ['ID',\n",
    "             'Body Measures Component Status Code',\n",
    "             'Weight (kg)',\n",
    "             'Weight Comment',\n",
    "             'Recumbent Length (cm)',\n",
    "             'Recumbent Length Comment',\n",
    "             'Head Circumference (cm)',\n",
    "             'Head Circumference Comment',\n",
    "             'Standing Height (cm)',\n",
    "             'Standing Height Comment',\n",
    "             'Body Mass Index (kg/m**2)',\n",
    "             'Upper Leg Length (cm)',\n",
    "             'Upper Leg Length Comment',\n",
    "             'Upper Arm Length (cm)',\n",
    "             'Upper Arm Length Comment',\n",
    "             'Arm Circumference (cm)',\n",
    "             'Arm Circumference Comment',\n",
    "             'Waist Circumference (cm)',\n",
    "             'Waist Circumference Comment',\n",
    "             'Hip Circumference (cm)',\n",
    "             'Hip Circumference Comment']\n",
    "body_df = pd.read_sas(link)\n",
    "body_df.columns = body_cols\n",
    "\n",
    "y_df = pd.merge(heathstat_df, body_df, on=\"ID\")\n",
    "y_df.head(5)"
   ]
  },
  {
   "cell_type": "code",
   "execution_count": 122,
   "metadata": {
    "colab": {
     "base_uri": "https://localhost:8080/",
     "height": 206
    },
    "id": "gVUrowmiozMW",
    "outputId": "f529eafc-54cc-4846-b135-ea37d930822c"
   },
   "outputs": [
    {
     "data": {
      "text/html": [
       "<div>\n",
       "<style scoped>\n",
       "    .dataframe tbody tr th:only-of-type {\n",
       "        vertical-align: middle;\n",
       "    }\n",
       "\n",
       "    .dataframe tbody tr th {\n",
       "        vertical-align: top;\n",
       "    }\n",
       "\n",
       "    .dataframe thead th {\n",
       "        text-align: right;\n",
       "    }\n",
       "</style>\n",
       "<table border=\"1\" class=\"dataframe\">\n",
       "  <thead>\n",
       "    <tr style=\"text-align: right;\">\n",
       "      <th></th>\n",
       "      <th>ID</th>\n",
       "      <th>General health condition</th>\n",
       "      <th>Body Mass Index (kg/m**2)</th>\n",
       "    </tr>\n",
       "  </thead>\n",
       "  <tbody>\n",
       "    <tr>\n",
       "      <th>2</th>\n",
       "      <td>93705.0</td>\n",
       "      <td>3.0</td>\n",
       "      <td>31.7</td>\n",
       "    </tr>\n",
       "    <tr>\n",
       "      <th>3</th>\n",
       "      <td>93706.0</td>\n",
       "      <td>2.0</td>\n",
       "      <td>21.5</td>\n",
       "    </tr>\n",
       "    <tr>\n",
       "      <th>4</th>\n",
       "      <td>93707.0</td>\n",
       "      <td>3.0</td>\n",
       "      <td>18.1</td>\n",
       "    </tr>\n",
       "    <tr>\n",
       "      <th>5</th>\n",
       "      <td>93708.0</td>\n",
       "      <td>3.0</td>\n",
       "      <td>23.7</td>\n",
       "    </tr>\n",
       "    <tr>\n",
       "      <th>7</th>\n",
       "      <td>93711.0</td>\n",
       "      <td>2.0</td>\n",
       "      <td>21.3</td>\n",
       "    </tr>\n",
       "  </tbody>\n",
       "</table>\n",
       "</div>"
      ],
      "text/plain": [
       "        ID  General health condition  Body Mass Index (kg/m**2)\n",
       "2  93705.0                       3.0                       31.7\n",
       "3  93706.0                       2.0                       21.5\n",
       "4  93707.0                       3.0                       18.1\n",
       "5  93708.0                       3.0                       23.7\n",
       "7  93711.0                       2.0                       21.3"
      ]
     },
     "execution_count": 122,
     "metadata": {},
     "output_type": "execute_result"
    }
   ],
   "source": [
    "# Remove cols\n",
    "labels_df = y_df[['ID','General health condition', 'Body Mass Index (kg/m**2)']]\n",
    "labels_df = labels_df[labels_df['General health condition'].isin([1.0, 2.0, 3.0, 4.0, 5.0])]\n",
    "labels_df.head(5)"
   ]
  },
  {
   "cell_type": "markdown",
   "metadata": {
    "id": "cLydHKGqozMZ"
   },
   "source": [
    "## What is the relation between people's BMIs and their perceived general health condition? \n",
    "In the Current Health Status survey, people recorded their perceived general health condition on a scale of 1-5. I removed the \"Refused\", \"Don't know\", and \"Not recorded\" values.\n",
    "\n",
    "1 \tExcellent \t619 \t619 \t\n",
    "2 \tVery good \t1544 \t2163 \t\n",
    "3 \tGood \t    2454 \t4617 \t\n",
    "4 \tFair    \t1175 \t5792 \t\n",
    "5 \tPoor        172 \t5964\n",
    "\n",
    "I plotted people's BMIs against their perceived health to see if there was a relationship. I expected a bell curve-people who were in a healthy weight should perceive themselves as healthy individuals. However, that was not the case. Weight is not the only predictor of health and even if it were, people have altered perceptions of health. \n",
    "\n",
    "\n",
    "Note the vertical lines delimiting the BMI Health Status Categories:\n",
    "Below 18.5\tUnderweight\n",
    "18.5—24.9\tHealthy\n",
    "25.0—29.9\tOverweight\n",
    "30.0 and Above\tObese"
   ]
  },
  {
   "cell_type": "code",
   "execution_count": 123,
   "metadata": {
    "colab": {
     "base_uri": "https://localhost:8080/",
     "height": 265
    },
    "id": "d9tD4gsdozMc",
    "outputId": "47405aed-2c4f-4b0f-c4c7-f96ea93f9093"
   },
   "outputs": [
    {
     "data": {
      "image/png": "[encoded data removed]",
      "text/plain": [
       "<Figure size 432x288 with 1 Axes>"
      ]
     },
     "metadata": {
      "needs_background": "light"
     },
     "output_type": "display_data"
    }
   ],
   "source": [
    "new_ydf = y_df[['Body Mass Index (kg/m**2)','General health condition']]\n",
    "new_ydf = new_ydf[new_ydf['General health condition'].isin([1.0, 2.0, 3.0, 4.0, 5.0])]\n",
    "new_ydf = new_ydf.dropna(subset=['Body Mass Index (kg/m**2)'])\n",
    "\n",
    "new_ydf['Body Mass Index (kg/m**2)'][new_ydf['Body Mass Index (kg/m**2)'] <= 18.5] = 15\n",
    "new_ydf['Body Mass Index (kg/m**2)'][(new_ydf['Body Mass Index (kg/m**2)']>18.5) & (new_ydf['Body Mass Index (kg/m**2)']<=25)] = 21.75\n",
    "new_ydf['Body Mass Index (kg/m**2)'][(new_ydf['Body Mass Index (kg/m**2)']>25) & (new_ydf['Body Mass Index (kg/m**2)']<=30)] = 27.5\n",
    "new_ydf['Body Mass Index (kg/m**2)'][new_ydf['Body Mass Index (kg/m**2)']>30] = 35\n",
    "s=new_ydf.value_counts()\n",
    "new_ydf=new_ydf.drop_duplicates()\n",
    "\n",
    "new_bmi = new_ydf['Body Mass Index (kg/m**2)']\n",
    "new_ghc = new_ydf['General health condition']\n",
    "\n",
    "plt.scatter(new_bmi, new_ghc, alpha=0.5, s=s)\n",
    "plt.axvline(x=18.5, color = 'red')\n",
    "plt.axvline(x=25, color = 'red')\n",
    "plt.axvline(x=30, color = 'red')\n",
    "plt.show()"
   ]
  },
  {
   "cell_type": "code",
   "execution_count": 124,
   "metadata": {
    "colab": {
     "base_uri": "https://localhost:8080/",
     "height": 281
    },
    "id": "FUVHnHd7ozMf",
    "outputId": "d7aaf76a-8a7d-4e8f-aa15-cc89fa438338"
   },
   "outputs": [
    {
     "data": {
      "image/png": "[encoded data removed]",
      "text/plain": [
       "<Figure size 432x288 with 1 Axes>"
      ]
     },
     "metadata": {
      "needs_background": "light"
     },
     "output_type": "display_data"
    }
   ],
   "source": [
    "a = np.hstack(y_df['Body Mass Index (kg/m**2)'])\n",
    "_ = plt.hist(a, bins='auto')  # arguments are passed to np.histogram\n",
    "plt.axvline(x=18.5, color = 'red')\n",
    "plt.axvline(x=25, color = 'red')\n",
    "plt.axvline(x=30, color = 'red')\n",
    "plt.title(\"BMI Histogram\")\n",
    "\n",
    "plt.show()"
   ]
  },
  {
   "cell_type": "code",
   "execution_count": 125,
   "metadata": {
    "colab": {
     "base_uri": "https://localhost:8080/",
     "height": 281
    },
    "id": "U8Ia6V9JozMh",
    "outputId": "12922367-2ec9-44ec-d1f5-2cf536a6a099"
   },
   "outputs": [
    {
     "data": {
      "image/png": "[encoded data removed]",
      "text/plain": [
       "<Figure size 432x288 with 1 Axes>"
      ]
     },
     "metadata": {
      "needs_background": "light"
     },
     "output_type": "display_data"
    }
   ],
   "source": [
    "a = np.hstack(y_df['General health condition'])\n",
    "_ = plt.hist(a, bins='auto')  # arguments are passed to np.histogram\n",
    "plt.title(\"Perceived Health Histogram\")\n",
    "\n",
    "plt.show()"
   ]
  },
  {
   "cell_type": "markdown",
   "metadata": {
    "id": "5XNtLx_qozMk"
   },
   "source": [
    "## So we see a discrepancy in how people perceive their health and their \"actual\" health, assuming BMI reflects people's actual health. \n",
    "\n",
    "## Based on X, can we classify people's perceived health and then predict their BMI?"
   ]
  },
  {
   "cell_type": "code",
   "execution_count": 126,
   "metadata": {
    "colab": {
     "base_uri": "https://localhost:8080/"
    },
    "id": "BeFLBE7XozMn",
    "outputId": "8c88a553-2905-41a9-c30a-47307f32e7d2"
   },
   "outputs": [
    {
     "name": "stdout",
     "output_type": "stream",
     "text": [
      "<class 'pandas.core.frame.DataFrame'>\n",
      "Int64Index: 6161 entries, 0 to 6160\n",
      "Data columns (total 70 columns):\n",
      " #   Column                                     Non-Null Count  Dtype  \n",
      "---  ------                                     --------------  -----  \n",
      " 0   ID                                         6161 non-null   float64\n",
      " 1   Data release cycle                         6161 non-null   float64\n",
      " 2   Interview/Examination status               6161 non-null   float64\n",
      " 3   Gender                                     6161 non-null   float64\n",
      " 4   Age in years at screening                  6161 non-null   float64\n",
      " 5   Age in months at screening - 0 to 24 mos   0 non-null      float64\n",
      " 6   Race/Hispanic origin                       6161 non-null   float64\n",
      " 7   Race/Hispanic origin w/ NH Asian           6161 non-null   float64\n",
      " 8   Six month time period                      5828 non-null   float64\n",
      " 9   Age in months at exam - 0 to 19 years      557 non-null    float64\n",
      " 10  Served active duty in US Armed Forces      6004 non-null   float64\n",
      " 11  Served in a foreign country                561 non-null    float64\n",
      " 12  Country of birth                           6161 non-null   float64\n",
      " 13  Citizenship status                         6158 non-null   float64\n",
      " 14  Length of time in US                       1819 non-null   float64\n",
      " 15  Education level - Children/Youth 6-19      592 non-null    float64\n",
      " 16  Education level - Adults 20+               5569 non-null   float64\n",
      " 17  Marital status                             5569 non-null   float64\n",
      " 18  Pregnancy status at exam                   1110 non-null   float64\n",
      " 19  Language of SP Interview                   6161 non-null   float64\n",
      " 20  Proxy used in SP Interview?                6161 non-null   float64\n",
      " 21  Interpreter used in SP Interview?          6161 non-null   float64\n",
      " 22  Language of Family Interview               5816 non-null   float64\n",
      " 23  Proxy used in Family Interview?            5816 non-null   float64\n",
      " 24  Interpreter used in Family Interview?      5816 non-null   float64\n",
      " 25  Language of MEC Interview                  5427 non-null   float64\n",
      " 26  Proxy used in MEC Interview?               5427 non-null   float64\n",
      " 27  Interpreter used in MEC Interview?         5427 non-null   float64\n",
      " 28  Language of ACASI Interview                4436 non-null   float64\n",
      " 29  Total number of people in the Household    6161 non-null   float64\n",
      " 30  Total number of people in the Family       6161 non-null   float64\n",
      " 31  # of children 5 years or younger in HH     6161 non-null   float64\n",
      " 32  # of children 6-17 years old in HH         6161 non-null   float64\n",
      " 33  # of adults 60 years or older in HH        6161 non-null   float64\n",
      " 34  HH ref person's gender                     6161 non-null   float64\n",
      " 35  HH ref person's age in years               6161 non-null   float64\n",
      " 36  HH ref person's education level            5854 non-null   float64\n",
      " 37  HH ref person's marital status             6027 non-null   float64\n",
      " 38  HH ref person's spouse's education level   3031 non-null   float64\n",
      " 39  Full sample 2 year interview weight        6161 non-null   float64\n",
      " 40  Full sample 2 year MEC exam weight         6161 non-null   float64\n",
      " 41  Masked variance pseudo-PSU                 6161 non-null   float64\n",
      " 42  Masked variance pseudo-stratum             6161 non-null   float64\n",
      " 43  Annual household income                    5801 non-null   float64\n",
      " 44  Annual family income                       5816 non-null   float64\n",
      " 45  Ratio of family income to poverty          5292 non-null   float64\n",
      " 46  Income from wages/salaries?                5816 non-null   float64\n",
      " 47  Income from self employment?               5816 non-null   float64\n",
      " 48  Income from Social Security or RR?         5816 non-null   float64\n",
      " 49  Income from other disability pension?      5816 non-null   float64\n",
      " 50  Income from retirement/survivor pension?   5816 non-null   float64\n",
      " 51  Income from Supplemental Security Income?  5816 non-null   float64\n",
      " 52  Income from state/county cash assistance?  5816 non-null   float64\n",
      " 53  Income from interest/dividends or rental?  5816 non-null   float64\n",
      " 54  Income from other sources?                 5816 non-null   float64\n",
      " 55  Monthly family income                      5682 non-null   float64\n",
      " 56  Family monthly poverty level index         4903 non-null   float64\n",
      " 57  Family monthly poverty level category      5679 non-null   float64\n",
      " 58  Family has savings more than $20,000?      5682 non-null   float64\n",
      " 59  Total savings/cash assets for the family   3871 non-null   float64\n",
      " 60  How do you get to the grocery store?       5816 non-null   float64\n",
      " 61  Type of Work                               6161 non-null   float64\n",
      " 62  Hours Worked Last Week                     3141 non-null   float64\n",
      " 63  Usually Work 35 or More Hours?             1014 non-null   float64\n",
      " 64  Type of Employee                           3263 non-null   float64\n",
      " 65  Months Worked                              3263 non-null   float64\n",
      " 66  Overall Work Schedule                      3262 non-null   float64\n",
      " 67  Main Reason for Not Working                2625 non-null   float64\n",
      " 68  Kind of Occupation Done the Longest        6161 non-null   float64\n",
      " 69  Duration of Longest Job                    3785 non-null   float64\n",
      "dtypes: float64(70)\n",
      "memory usage: 3.3 MB\n"
     ]
    }
   ],
   "source": [
    "X_df.info()"
   ]
  },
  {
   "cell_type": "code",
   "execution_count": 127,
   "metadata": {
    "colab": {
     "base_uri": "https://localhost:8080/"
    },
    "id": "Q3bg0MRZozMo",
    "outputId": "c60f70f1-8028-4ced-c5d0-b26021b074b9"
   },
   "outputs": [
    {
     "name": "stdout",
     "output_type": "stream",
     "text": [
      "<class 'pandas.core.frame.DataFrame'>\n",
      "Int64Index: 5417 entries, 0 to 5416\n",
      "Data columns (total 9 columns):\n",
      " #   Column                                    Non-Null Count  Dtype  \n",
      "---  ------                                    --------------  -----  \n",
      " 0   ID                                        5417 non-null   float64\n",
      " 1   HH ref person's gender                    5417 non-null   float64\n",
      " 2   HH ref person's age in years              5417 non-null   float64\n",
      " 3   HH ref person's education level           5181 non-null   float64\n",
      " 4   Race/Hispanic origin w/ NH Asian          5417 non-null   float64\n",
      " 5   Total savings/cash assets for the family  3455 non-null   float64\n",
      " 6   Annual family income                      5171 non-null   float64\n",
      " 7   General health condition                  5417 non-null   float64\n",
      " 8   Body Mass Index (kg/m**2)                 5348 non-null   float64\n",
      "dtypes: float64(9)\n",
      "memory usage: 423.2 KB\n"
     ]
    }
   ],
   "source": [
    "features = ['ID',\n",
    "            'HH ref person\\'s gender',\n",
    "            'HH ref person\\'s age in years',\n",
    "            'HH ref person\\'s education level',\n",
    "            'Race/Hispanic origin w/ NH Asian',\n",
    "            'Total savings/cash assets for the family',\n",
    "            'Annual family income']\n",
    "features_df = X_df[features]\n",
    "df = pd.merge(features_df, labels_df, on=\"ID\")\n",
    "df.info()"
   ]
  },
  {
   "cell_type": "markdown",
   "metadata": {
    "id": "x7C23ghEtdH5"
   },
   "source": [
    "# Data Cleaning"
   ]
  },
  {
   "cell_type": "code",
   "execution_count": 128,
   "metadata": {
    "colab": {
     "base_uri": "https://localhost:8080/"
    },
    "id": "qnRS8Nq3ozMx",
    "outputId": "8b98171a-e5a9-42d6-b641-1567002f3397"
   },
   "outputs": [
    {
     "data": {
      "text/plain": [
       "ID                                             0\n",
       "HH ref person's gender                         0\n",
       "HH ref person's age in years                   0\n",
       "HH ref person's education level              236\n",
       "Race/Hispanic origin w/ NH Asian               0\n",
       "Total savings/cash assets for the family    1962\n",
       "Annual family income                         246\n",
       "General health condition                       0\n",
       "Body Mass Index (kg/m**2)                     69\n",
       "dtype: int64"
      ]
     },
     "execution_count": 128,
     "metadata": {},
     "output_type": "execute_result"
    }
   ],
   "source": [
    "# Clean Data to get rid of error:\n",
    "# Input contains NaN, infinity or a value too large for dtype('float32').\n",
    "\n",
    "df.isna().sum()"
   ]
  },
  {
   "cell_type": "markdown",
   "metadata": {
    "id": "2s6GhhbhuFkS"
   },
   "source": [
    "## So we can see that 4 columns will need cleaning.\n",
    "\n",
    "The BMI column has 69 NaN entries, but since this is one of the labels which we are predicting, it would be better to drop these values, otherwise we may be training on egregious data.\n",
    "\n",
    "Furthermore, the household reference person's education level is missing in 236 rows. For this we will do mode imputation because this appears to be the most reliable statistic to fill the unknown values.\n",
    "\n",
    "For the total savings/assets column, it would make sense to use mode imputation since this appears to be the most reliable way of generalizing the sample population.\n",
    "\n",
    "For the annual family income, it would make sense to use median imputation. However, we must consider two values correspond to \"Under \\$20,000\" and \"Over \\$20,000\". First, we will consider any rows with the latter value as NA since \"Over \\$20,000\" encompasses a wide range. On the other hand, \"Under \\$20,000\" can be used to consolidate the four different ranges below \\$20,000. Lastly, we will still need to consider the NA, \"Refused\", and \"Don't know\" values.\n",
    "\n",
    "**Note:** These columns also have valid values which correspond to \"Refused\" or \"Don't know\" so we will need to perform the same imputations on these entries as well. This also implies that we should check the values without NA values to make sure there are no \"Refused\" or \"Don't know\" values.\n"
   ]
  },
  {
   "cell_type": "code",
   "execution_count": 129,
   "metadata": {
    "colab": {
     "base_uri": "https://localhost:8080/",
     "height": 258
    },
    "id": "80aI-AeXuAS0",
    "outputId": "fe19000a-10f7-4799-f26c-239fca02d7ca"
   },
   "outputs": [
    {
     "data": {
      "text/html": [
       "<div>\n",
       "<style scoped>\n",
       "    .dataframe tbody tr th:only-of-type {\n",
       "        vertical-align: middle;\n",
       "    }\n",
       "\n",
       "    .dataframe tbody tr th {\n",
       "        vertical-align: top;\n",
       "    }\n",
       "\n",
       "    .dataframe thead th {\n",
       "        text-align: right;\n",
       "    }\n",
       "</style>\n",
       "<table border=\"1\" class=\"dataframe\">\n",
       "  <thead>\n",
       "    <tr style=\"text-align: right;\">\n",
       "      <th></th>\n",
       "      <th>ID</th>\n",
       "      <th>HH ref person's gender</th>\n",
       "      <th>HH ref person's age in years</th>\n",
       "      <th>HH ref person's education level</th>\n",
       "      <th>Race/Hispanic origin w/ NH Asian</th>\n",
       "      <th>Total savings/cash assets for the family</th>\n",
       "      <th>Annual family income</th>\n",
       "      <th>General health condition</th>\n",
       "      <th>Body Mass Index (kg/m**2)</th>\n",
       "    </tr>\n",
       "  </thead>\n",
       "  <tbody>\n",
       "    <tr>\n",
       "      <th>100</th>\n",
       "      <td>93863.0</td>\n",
       "      <td>1.0</td>\n",
       "      <td>3.0</td>\n",
       "      <td>2.0</td>\n",
       "      <td>6.0</td>\n",
       "      <td>NaN</td>\n",
       "      <td>77.0</td>\n",
       "      <td>2.0</td>\n",
       "      <td>31.6</td>\n",
       "    </tr>\n",
       "    <tr>\n",
       "      <th>101</th>\n",
       "      <td>93866.0</td>\n",
       "      <td>1.0</td>\n",
       "      <td>2.0</td>\n",
       "      <td>2.0</td>\n",
       "      <td>3.0</td>\n",
       "      <td>1.0</td>\n",
       "      <td>99.0</td>\n",
       "      <td>4.0</td>\n",
       "      <td>22.0</td>\n",
       "    </tr>\n",
       "    <tr>\n",
       "      <th>102</th>\n",
       "      <td>93868.0</td>\n",
       "      <td>1.0</td>\n",
       "      <td>4.0</td>\n",
       "      <td>1.0</td>\n",
       "      <td>4.0</td>\n",
       "      <td>NaN</td>\n",
       "      <td>77.0</td>\n",
       "      <td>4.0</td>\n",
       "      <td>35.4</td>\n",
       "    </tr>\n",
       "    <tr>\n",
       "      <th>111</th>\n",
       "      <td>93884.0</td>\n",
       "      <td>2.0</td>\n",
       "      <td>3.0</td>\n",
       "      <td>3.0</td>\n",
       "      <td>3.0</td>\n",
       "      <td>NaN</td>\n",
       "      <td>99.0</td>\n",
       "      <td>1.0</td>\n",
       "      <td>21.3</td>\n",
       "    </tr>\n",
       "    <tr>\n",
       "      <th>115</th>\n",
       "      <td>93891.0</td>\n",
       "      <td>1.0</td>\n",
       "      <td>3.0</td>\n",
       "      <td>1.0</td>\n",
       "      <td>1.0</td>\n",
       "      <td>99.0</td>\n",
       "      <td>99.0</td>\n",
       "      <td>3.0</td>\n",
       "      <td>44.6</td>\n",
       "    </tr>\n",
       "  </tbody>\n",
       "</table>\n",
       "</div>"
      ],
      "text/plain": [
       "          ID  HH ref person's gender  HH ref person's age in years  \\\n",
       "100  93863.0                     1.0                           3.0   \n",
       "101  93866.0                     1.0                           2.0   \n",
       "102  93868.0                     1.0                           4.0   \n",
       "111  93884.0                     2.0                           3.0   \n",
       "115  93891.0                     1.0                           3.0   \n",
       "\n",
       "     HH ref person's education level  Race/Hispanic origin w/ NH Asian  \\\n",
       "100                              2.0                               6.0   \n",
       "101                              2.0                               3.0   \n",
       "102                              1.0                               4.0   \n",
       "111                              3.0                               3.0   \n",
       "115                              1.0                               1.0   \n",
       "\n",
       "     Total savings/cash assets for the family  Annual family income  \\\n",
       "100                                       NaN                  77.0   \n",
       "101                                       1.0                  99.0   \n",
       "102                                       NaN                  77.0   \n",
       "111                                       NaN                  99.0   \n",
       "115                                      99.0                  99.0   \n",
       "\n",
       "     General health condition  Body Mass Index (kg/m**2)  \n",
       "100                       2.0                       31.6  \n",
       "101                       4.0                       22.0  \n",
       "102                       4.0                       35.4  \n",
       "111                       1.0                       21.3  \n",
       "115                       3.0                       44.6  "
      ]
     },
     "execution_count": 129,
     "metadata": {},
     "output_type": "execute_result"
    }
   ],
   "source": [
    "# Showing that values w/ 77 & 99 exist\n",
    "\n",
    "df[(df['Annual family income'] == 77.0) | (df['Annual family income'] == 99.0)].head(5)"
   ]
  },
  {
   "cell_type": "markdown",
   "metadata": {
    "id": "FLiVOe3NLr5i"
   },
   "source": [
    "## `HH ref person's gender` Cleaning"
   ]
  },
  {
   "cell_type": "code",
   "execution_count": 130,
   "metadata": {
    "colab": {
     "base_uri": "https://localhost:8080/"
    },
    "id": "gCcuz5wfL5oh",
    "outputId": "b175d897-1b20-462c-f30e-b4d8b16284d4"
   },
   "outputs": [
    {
     "name": "stdout",
     "output_type": "stream",
     "text": [
      "\n",
      "HH REF PERSON'S GENDER:\n",
      "1.0    2879\n",
      "2.0    2538\n",
      "Name: HH ref person's gender, dtype: int64\n"
     ]
    }
   ],
   "source": [
    "print(\"\\nHH ref person's gender:\\n\".upper(), df[\"HH ref person's gender\"].value_counts(), sep='')"
   ]
  },
  {
   "cell_type": "markdown",
   "metadata": {
    "id": "iMAzuXHoL-Ds"
   },
   "source": [
    "These values correspond to male and female respectively so we don't need to do any more cleaning."
   ]
  },
  {
   "cell_type": "markdown",
   "metadata": {
    "id": "L44IEfszMTUp"
   },
   "source": [
    "## `HH ref person's age in years` Cleaning"
   ]
  },
  {
   "cell_type": "code",
   "execution_count": 131,
   "metadata": {
    "colab": {
     "base_uri": "https://localhost:8080/"
    },
    "id": "wahlZHxuMWTw",
    "outputId": "65335109-c52e-46d5-d0c1-5fad7a9f53b6"
   },
   "outputs": [
    {
     "name": "stdout",
     "output_type": "stream",
     "text": [
      "\n",
      "HH REF PERSON'S AGE IN YEARS:\n",
      "3.0    2073\n",
      "4.0    1939\n",
      "2.0    1325\n",
      "1.0      80\n",
      "Name: HH ref person's age in years, dtype: int64\n"
     ]
    }
   ],
   "source": [
    "print(\"\\nHH ref person's age in years:\\n\".upper(), df[\"HH ref person's age in years\"].value_counts(), sep='')"
   ]
  },
  {
   "cell_type": "markdown",
   "metadata": {
    "id": "ez4tlUgAMdYR"
   },
   "source": [
    "None of these correspond to \"Refused\" or \"Don't know\" nor have overlapping ranges, so no extra cleaning is needed."
   ]
  },
  {
   "cell_type": "markdown",
   "metadata": {
    "id": "ql6ewNjJ8XAg"
   },
   "source": [
    "## `HH ref person's education level` Cleaning"
   ]
  },
  {
   "cell_type": "code",
   "execution_count": 132,
   "metadata": {
    "colab": {
     "base_uri": "https://localhost:8080/"
    },
    "id": "TfLfs_k4-gKV",
    "outputId": "e06791ba-d854-4681-8df3-3099b0a3193e"
   },
   "outputs": [
    {
     "name": "stdout",
     "output_type": "stream",
     "text": [
      "\n",
      "HH REF PERSON'S EDUCATION LEVEL:\n",
      "2.0    2964\n",
      "3.0    1252\n",
      "1.0     965\n",
      "Name: HH ref person's education level, dtype: int64\n"
     ]
    }
   ],
   "source": [
    "print(\"\\nHH ref person's education level:\\n\".upper(), df[\"HH ref person's education level\"].value_counts(), sep='')"
   ]
  },
  {
   "cell_type": "markdown",
   "metadata": {
    "id": "4Ie5HTxA-0lh"
   },
   "source": [
    "From the above code, we can see that there are no extra values denoting \"Refused\" or \"Don't know\" so we can just work with replacing NA values."
   ]
  },
  {
   "cell_type": "code",
   "execution_count": 133,
   "metadata": {
    "colab": {
     "base_uri": "https://localhost:8080/"
    },
    "id": "l6j2VOsd-9tF",
    "outputId": "c314f158-8c4b-4c50-e748-d25980df92fa"
   },
   "outputs": [
    {
     "data": {
      "text/plain": [
       "ID                                             0\n",
       "HH ref person's gender                         0\n",
       "HH ref person's age in years                   0\n",
       "HH ref person's education level                0\n",
       "Race/Hispanic origin w/ NH Asian               0\n",
       "Total savings/cash assets for the family    1962\n",
       "Annual family income                         246\n",
       "General health condition                       0\n",
       "Body Mass Index (kg/m**2)                     69\n",
       "dtype: int64"
      ]
     },
     "execution_count": 133,
     "metadata": {},
     "output_type": "execute_result"
    }
   ],
   "source": [
    "# setting value to mode\n",
    "edu_lvl_dict = {\n",
    "    \"HH ref person's education level\": df[\"HH ref person's education level\"].value_counts().index[0]\n",
    "}\n",
    "\n",
    "df = df.fillna(value=edu_lvl_dict)\n",
    "df.isna().sum()"
   ]
  },
  {
   "cell_type": "markdown",
   "metadata": {
    "id": "ILpDs0lFMsWu"
   },
   "source": [
    "## `Race/Hispanic origin w/ NH Asian` Cleaning"
   ]
  },
  {
   "cell_type": "code",
   "execution_count": 134,
   "metadata": {
    "colab": {
     "base_uri": "https://localhost:8080/"
    },
    "id": "uOEx3pOwMwVV",
    "outputId": "f7833fa2-1354-476d-9227-b1421dc3e281"
   },
   "outputs": [
    {
     "name": "stdout",
     "output_type": "stream",
     "text": [
      "\n",
      "RACE/HISPANIC ORIGIN W/ NH ASIAN:\n",
      "3.0    1907\n",
      "4.0    1253\n",
      "1.0     753\n",
      "6.0     724\n",
      "2.0     479\n",
      "7.0     301\n",
      "Name: Race/Hispanic origin w/ NH Asian, dtype: int64\n"
     ]
    }
   ],
   "source": [
    "print(\"\\nRace/Hispanic origin w/ NH Asian:\\n\".upper(), df[\"Race/Hispanic origin w/ NH Asian\"].value_counts(), sep='')"
   ]
  },
  {
   "cell_type": "markdown",
   "metadata": {
    "id": "k6CSNBWBM6zv"
   },
   "source": [
    "None of these values correspond to \"Refused\" or \"Don't know\", so no extra cleaning is needed."
   ]
  },
  {
   "cell_type": "markdown",
   "metadata": {
    "id": "-WXgmDNfCQSF"
   },
   "source": [
    "## `Total savings/cash assets for the family` Cleaning"
   ]
  },
  {
   "cell_type": "code",
   "execution_count": 135,
   "metadata": {
    "colab": {
     "base_uri": "https://localhost:8080/"
    },
    "id": "J8YKlFcr3kJ4",
    "outputId": "9fa59da1-2df8-4074-cc37-ebecb332da4d"
   },
   "outputs": [
    {
     "name": "stdout",
     "output_type": "stream",
     "text": [
      "TOTAL SAVINGS/CASH ASSETS FOR THE FAMILY:\n",
      "1.0     2617\n",
      "2.0      308\n",
      "3.0      281\n",
      "4.0      113\n",
      "99.0      64\n",
      "5.0       48\n",
      "77.0      24\n",
      "Name: Total savings/cash assets for the family, dtype: int64\n"
     ]
    }
   ],
   "source": [
    "print('Total savings/cash assets for the family:\\n'.upper(), df['Total savings/cash assets for the family'].value_counts(), sep='')"
   ]
  },
  {
   "cell_type": "code",
   "execution_count": 136,
   "metadata": {
    "colab": {
     "base_uri": "https://localhost:8080/"
    },
    "id": "vGxVRCzVCSDV",
    "outputId": "623d58b4-53b2-4b5c-eb82-0639f211737a"
   },
   "outputs": [
    {
     "data": {
      "text/plain": [
       "ID                                             0\n",
       "HH ref person's gender                         0\n",
       "HH ref person's age in years                   0\n",
       "HH ref person's education level                0\n",
       "Race/Hispanic origin w/ NH Asian               0\n",
       "Total savings/cash assets for the family    2050\n",
       "Annual family income                         246\n",
       "General health condition                       0\n",
       "Body Mass Index (kg/m**2)                     69\n",
       "dtype: int64"
      ]
     },
     "execution_count": 136,
     "metadata": {},
     "output_type": "execute_result"
    }
   ],
   "source": [
    "# Replace 77.0 & 99.0 w/ NaN\n",
    "\n",
    "df['Total savings/cash assets for the family'] = df['Total savings/cash assets for the family'].replace([77.0, 99.0], [np.nan, np.nan])\n",
    "df.isna().sum()"
   ]
  },
  {
   "cell_type": "code",
   "execution_count": 137,
   "metadata": {
    "colab": {
     "base_uri": "https://localhost:8080/"
    },
    "id": "D0hKI_kpFKLu",
    "outputId": "d64cc32b-5aaf-47f1-c60a-8cacb72b8016"
   },
   "outputs": [
    {
     "data": {
      "text/plain": [
       "ID                                            0\n",
       "HH ref person's gender                        0\n",
       "HH ref person's age in years                  0\n",
       "HH ref person's education level               0\n",
       "Race/Hispanic origin w/ NH Asian              0\n",
       "Total savings/cash assets for the family      0\n",
       "Annual family income                        246\n",
       "General health condition                      0\n",
       "Body Mass Index (kg/m**2)                    69\n",
       "dtype: int64"
      ]
     },
     "execution_count": 137,
     "metadata": {},
     "output_type": "execute_result"
    }
   ],
   "source": [
    "# Replace all NaNs with the mode\n",
    "\n",
    "savings_assets_dict = {\n",
    "    \"Total savings/cash assets for the family\": df[\"Total savings/cash assets for the family\"].value_counts().index[0]\n",
    "}\n",
    "\n",
    "df = df.fillna(value=savings_assets_dict)\n",
    "df.isna().sum()"
   ]
  },
  {
   "cell_type": "markdown",
   "metadata": {
    "id": "HZ5iDSZEGrBA"
   },
   "source": [
    "## `Annual family income` Cleaning"
   ]
  },
  {
   "cell_type": "code",
   "execution_count": 138,
   "metadata": {
    "colab": {
     "base_uri": "https://localhost:8080/"
    },
    "id": "NokzIS2C-cJz",
    "outputId": "39ae142f-c00e-41d3-b342-172fd6100722"
   },
   "outputs": [
    {
     "name": "stdout",
     "output_type": "stream",
     "text": [
      "ANNUAL FAMILY INCOME VALUES:\n",
      "15.0    930\n",
      "6.0     583\n",
      "7.0     542\n",
      "14.0    476\n",
      "8.0     362\n",
      "5.0     349\n",
      "4.0     327\n",
      "9.0     301\n",
      "3.0     278\n",
      "10.0    238\n",
      "1.0     190\n",
      "2.0     172\n",
      "12.0    135\n",
      "99.0    115\n",
      "77.0    101\n",
      "13.0     72\n",
      "Name: Annual family income, dtype: int64\n"
     ]
    }
   ],
   "source": [
    "print('ANNUAL FAMILY INCOME VALUES:\\n', df['Annual family income'].value_counts(), sep='')"
   ]
  },
  {
   "cell_type": "markdown",
   "metadata": {
    "id": "rwWqeCfKG18Y"
   },
   "source": [
    "12.0 -> \\$20,000 and Over\n",
    "\n",
    "13.0 -> \\$20,000 and Under\n",
    "\n"
   ]
  },
  {
   "cell_type": "code",
   "execution_count": 139,
   "metadata": {
    "colab": {
     "base_uri": "https://localhost:8080/"
    },
    "id": "NoKuuanjHXLg",
    "outputId": "dc2c5252-95ad-45e8-df0e-86c1cb49d80c"
   },
   "outputs": [
    {
     "name": "stdout",
     "output_type": "stream",
     "text": [
      "ANNUAL FAMILY INCOME VALUES:\n",
      "15.0    930\n",
      "6.0     583\n",
      "7.0     542\n",
      "14.0    476\n",
      "8.0     362\n",
      "5.0     349\n",
      "4.0     327\n",
      "9.0     301\n",
      "3.0     278\n",
      "10.0    238\n",
      "1.0     190\n",
      "2.0     172\n",
      "99.0    115\n",
      "77.0    101\n",
      "13.0     72\n",
      "Name: Annual family income, dtype: int64\n"
     ]
    }
   ],
   "source": [
    "# Remove instances with income == value 12.0\n",
    "\n",
    "df = df[df['Annual family income'] != 12.0]\n",
    "print('ANNUAL FAMILY INCOME VALUES:\\n', df['Annual family income'].value_counts(), sep='')"
   ]
  },
  {
   "cell_type": "code",
   "execution_count": 140,
   "metadata": {
    "colab": {
     "base_uri": "https://localhost:8080/"
    },
    "id": "ei4iy8t3Hu3T",
    "outputId": "75f3ae0a-301a-44e1-9deb-38e36789ee26"
   },
   "outputs": [
    {
     "data": {
      "text/plain": [
       "ID                                            0\n",
       "HH ref person's gender                        0\n",
       "HH ref person's age in years                  0\n",
       "HH ref person's education level               0\n",
       "Race/Hispanic origin w/ NH Asian              0\n",
       "Total savings/cash assets for the family      0\n",
       "Annual family income                        462\n",
       "General health condition                      0\n",
       "Body Mass Index (kg/m**2)                    69\n",
       "dtype: int64"
      ]
     },
     "execution_count": 140,
     "metadata": {},
     "output_type": "execute_result"
    }
   ],
   "source": [
    "# Replace \"Refused\" and \"Don't know\" values with NaN\n",
    "df['Annual family income'] = df['Annual family income'].replace([77.0, 99.0], np.nan)\n",
    "df.isna().sum()"
   ]
  },
  {
   "cell_type": "code",
   "execution_count": 141,
   "metadata": {
    "colab": {
     "base_uri": "https://localhost:8080/"
    },
    "id": "eltCIAVKIDgc",
    "outputId": "17b1eb44-1266-466b-b010-66b49350c1e8"
   },
   "outputs": [
    {
     "name": "stdout",
     "output_type": "stream",
     "text": [
      "ANNUAL FAMILY INCOME VALUES:\n",
      "13.0    1039\n",
      "15.0     930\n",
      "6.0      583\n",
      "7.0      542\n",
      "14.0     476\n",
      "8.0      362\n",
      "5.0      349\n",
      "9.0      301\n",
      "10.0     238\n",
      "Name: Annual family income, dtype: int64\n"
     ]
    }
   ],
   "source": [
    "# Replace any ranges below $20k with the general \"Under $20k\" label\n",
    "df['Annual family income'] = df['Annual family income'].replace([1.0, 2.0, 3.0, 4.0], 13.0)\n",
    "print('ANNUAL FAMILY INCOME VALUES:\\n', df['Annual family income'].value_counts(), sep='')"
   ]
  },
  {
   "cell_type": "code",
   "execution_count": 142,
   "metadata": {
    "colab": {
     "base_uri": "https://localhost:8080/"
    },
    "id": "cSdt96FOIzg3",
    "outputId": "171d705a-164a-4da8-e2a2-68bdc1552c88"
   },
   "outputs": [
    {
     "data": {
      "text/plain": [
       "{0: 13.0, 1: 5.0, 2: 6.0, 3: 7.0, 4: 8.0, 5: 9.0, 6: 10.0, 7: 14.0, 8: 15.0}"
      ]
     },
     "execution_count": 142,
     "metadata": {},
     "output_type": "execute_result"
    }
   ],
   "source": [
    "# Re-index the feature values\n",
    "ann_fam_income_map = dict(enumerate([13.0, 5.0, 6.0, 7.0, 8.0, 9.0, 10.0, 14.0, 15.0]))\n",
    "ann_fam_income_map"
   ]
  },
  {
   "cell_type": "code",
   "execution_count": 143,
   "metadata": {
    "colab": {
     "base_uri": "https://localhost:8080/"
    },
    "id": "ATvd9Yg7Jotj",
    "outputId": "d25fa77b-2770-4ff0-eb9f-5f2e36c2dc27"
   },
   "outputs": [
    {
     "name": "stdout",
     "output_type": "stream",
     "text": [
      "ANNUAL FAMILY INCOME VALUES:\n",
      "0.0    1039\n",
      "8.0     930\n",
      "2.0     583\n",
      "3.0     542\n",
      "7.0     476\n",
      "4.0     362\n",
      "1.0     349\n",
      "5.0     301\n",
      "6.0     238\n",
      "Name: Annual family income, dtype: int64\n"
     ]
    }
   ],
   "source": [
    "# Replace the current feature values with the enumerated ones\n",
    "df['Annual family income'] = df['Annual family income'].replace(ann_fam_income_map.values(), ann_fam_income_map.keys())\n",
    "print('ANNUAL FAMILY INCOME VALUES:\\n', df['Annual family income'].value_counts(), sep='')"
   ]
  },
  {
   "cell_type": "code",
   "execution_count": 144,
   "metadata": {
    "colab": {
     "base_uri": "https://localhost:8080/"
    },
    "id": "Q56Ed8A7J_f4",
    "outputId": "69a562e0-7165-4a88-fbf8-ad08ca7a7c93"
   },
   "outputs": [
    {
     "data": {
      "text/plain": [
       "ID                                           0\n",
       "HH ref person's gender                       0\n",
       "HH ref person's age in years                 0\n",
       "HH ref person's education level              0\n",
       "Race/Hispanic origin w/ NH Asian             0\n",
       "Total savings/cash assets for the family     0\n",
       "Annual family income                         0\n",
       "General health condition                     0\n",
       "Body Mass Index (kg/m**2)                   69\n",
       "dtype: int64"
      ]
     },
     "execution_count": 144,
     "metadata": {},
     "output_type": "execute_result"
    }
   ],
   "source": [
    "# Replace NA\n",
    "\n",
    "ann_fam_income_dict = {\n",
    "    \"Annual family income\": df[\"Annual family income\"].median()\n",
    "}\n",
    "\n",
    "df = df.fillna(value=ann_fam_income_dict)\n",
    "df.isna().sum()"
   ]
  },
  {
   "cell_type": "markdown",
   "metadata": {
    "id": "I5k0DpGLNG3z"
   },
   "source": [
    "## `General health condition` Cleaning"
   ]
  },
  {
   "cell_type": "code",
   "execution_count": 145,
   "metadata": {
    "colab": {
     "base_uri": "https://localhost:8080/"
    },
    "id": "NWfdJPeRNg5x",
    "outputId": "8c497a51-7ef4-4876-b9e2-2f8e5eed264b"
   },
   "outputs": [
    {
     "name": "stdout",
     "output_type": "stream",
     "text": [
      "\n",
      "GENERAL HEALTH CONDITION:\n",
      "3.0    2201\n",
      "2.0    1316\n",
      "4.0    1115\n",
      "1.0     485\n",
      "5.0     165\n",
      "Name: General health condition, dtype: int64\n"
     ]
    }
   ],
   "source": [
    "print(\"\\nGeneral health condition:\\n\".upper(), df[\"General health condition\"].value_counts(), sep='')"
   ]
  },
  {
   "cell_type": "markdown",
   "metadata": {
    "id": "rE3ziorBNqrQ"
   },
   "source": [
    "None of these values correspond to \"Refused\" or \"Don't know\", so no extra cleaning is needed."
   ]
  },
  {
   "cell_type": "markdown",
   "metadata": {
    "id": "29WJ79zN5uuM"
   },
   "source": [
    "## `Body Mass Index (kg/m**2)` Cleaning"
   ]
  },
  {
   "cell_type": "code",
   "execution_count": 146,
   "metadata": {
    "colab": {
     "base_uri": "https://localhost:8080/"
    },
    "id": "EiUmRf8A5xua",
    "outputId": "1059a9ca-ff2e-4f4a-962f-ced942dd67c5"
   },
   "outputs": [
    {
     "data": {
      "text/plain": [
       "ID                                          0\n",
       "HH ref person's gender                      0\n",
       "HH ref person's age in years                0\n",
       "HH ref person's education level             0\n",
       "Race/Hispanic origin w/ NH Asian            0\n",
       "Total savings/cash assets for the family    0\n",
       "Annual family income                        0\n",
       "General health condition                    0\n",
       "Body Mass Index (kg/m**2)                   0\n",
       "dtype: int64"
      ]
     },
     "execution_count": 146,
     "metadata": {},
     "output_type": "execute_result"
    }
   ],
   "source": [
    "# Remove any NA values\n",
    "\n",
    "df = df[df['Body Mass Index (kg/m**2)'].notna()]\n",
    "df.isna().sum()"
   ]
  },
  {
   "cell_type": "markdown",
   "metadata": {
    "id": "PF81ujj_uAzo"
   },
   "source": [
    "# Modeling"
   ]
  },
  {
   "cell_type": "code",
   "execution_count": 147,
   "metadata": {
    "colab": {
     "base_uri": "https://localhost:8080/"
    },
    "id": "uMbgGeJ2ozMz",
    "outputId": "6ca45a66-927e-4d58-8ba0-1cb56b5a8e01"
   },
   "outputs": [
    {
     "name": "stdout",
     "output_type": "stream",
     "text": [
      "Accuracy of Decision Tree:  0.41545613015688554\n",
      "0.41545613015688554\n"
     ]
    }
   ],
   "source": [
    "# Convert the DataFrame to a NumPy array\n",
    "df_arr = df.to_numpy()\n",
    "# Segregate features and labels into separate variables\n",
    "X,y = df_arr[:,1:6] , df_arr[:,7]\n",
    "\n",
    "X_train, X_test, y_train, y_test = train_test_split(X,\n",
    "                                                    y,\n",
    "                                                    test_size=0.33,\n",
    "                                                    random_state=42)\n",
    "scaler = MinMaxScaler(feature_range=(0, 1))\n",
    "X_train = scaler.fit_transform(X_train)\n",
    "X_test = scaler.fit_transform(X_test)\n",
    "\n",
    "clf = tree.DecisionTreeClassifier()\n",
    "clf = clf.fit(X_train, y_train)\n",
    "y_pred = clf.predict(X_test)\n",
    "print(\"Accuracy of Decision Tree: \", clf.score(X_test, y_test))\n",
    "print(f1_score(y_test, y_pred, average='micro'))"
   ]
  }
 ],
 "metadata": {
  "colab": {
   "collapsed_sections": [],
   "include_colab_link": true,
   "name": "Preliminary_Analysis.ipynb",
   "provenance": [],
   "toc_visible": true
  },
  "kernelspec": {
   "display_name": "Python 3",
   "language": "python",
   "name": "python3"
  },
  "language_info": {
   "codemirror_mode": {
    "name": "ipython",
    "version": 3
   },
   "file_extension": ".py",
   "mimetype": "text/x-python",
   "name": "python",
   "nbconvert_exporter": "python",
   "pygments_lexer": "ipython3",
   "version": "3.7.10"
  }
 },
 "nbformat": 4,
 "nbformat_minor": 4
}
